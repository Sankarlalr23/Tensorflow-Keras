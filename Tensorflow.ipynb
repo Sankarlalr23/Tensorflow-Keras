{
  "nbformat": 4,
  "nbformat_minor": 0,
  "metadata": {
    "colab": {
      "name": "Tensorflow.ipynb",
      "provenance": [],
      "collapsed_sections": [],
      "include_colab_link": true
    },
    "kernelspec": {
      "name": "python3",
      "display_name": "Python 3"
    },
    "accelerator": "GPU"
  },
  "cells": [
    {
      "cell_type": "markdown",
      "metadata": {
        "id": "view-in-github",
        "colab_type": "text"
      },
      "source": [
        "<a href=\"https://colab.research.google.com/github/Sankarlalr23/Tensorflow-Keras/blob/main/Tensorflow.ipynb\" target=\"_parent\"><img src=\"https://colab.research.google.com/assets/colab-badge.svg\" alt=\"Open In Colab\"/></a>"
      ]
    },
    {
      "cell_type": "markdown",
      "metadata": {
        "id": "YwRhVNG9kVbv"
      },
      "source": [
        "# Tensorflow + Keras Introduction\n",
        "\n",
        "Tensorflow 2.x alongwith Keras API provide a powerful set of tools to write Neural Networks, test and deploy them in a jiffy. \n",
        "\n",
        "The official documentation could be found here : https://www.tensorflow.org/"
      ]
    },
    {
      "cell_type": "markdown",
      "metadata": {
        "id": "RRcZDuL1oJ8e"
      },
      "source": [
        "---\n",
        "### TensorFlow 2.0 is an extensive redesign of TensorFlow and Keras that takes into account over four years of user feedback and technical progress.\n",
        "---\n",
        "\n",
        "TensorFlow 2.0 is built on the following key ideas:\n",
        "\n",
        "- Let users run their computation eagerly, like they would in Numpy. This makes TensorFlow 2.0 programming intuitive and Pythonic.\n",
        "- Preserve the considerable advantages of compiled graphs (for performance, distribution, and deployment). This makes TensorFlow fast, scalable, and production-ready.\n",
        "- Leverage Keras as its high-level deep learning API, making TensorFlow approachable and highly productive.\n",
        "- Extend Keras into a spectrum of workflows ranging from the very high-level (easier to use, less flexible) to the very low-level (requires more expertise, but provides great flexibility)."
      ]
    },
    {
      "cell_type": "markdown",
      "metadata": {
        "id": "dQirvOlfk6T6"
      },
      "source": [
        "### Easy model building\n",
        "TensorFlow offers multiple levels of abstraction so you can choose the right one for your needs. Build and train models by using the high-level Keras API, which makes getting started with TensorFlow and machine learning easy.\n",
        "\n",
        "If you need more flexibility, eager execution allows for immediate iteration and intuitive debugging. For large ML training tasks, use the Distribution Strategy API for distributed training on different hardware configurations without changing the model definition."
      ]
    },
    {
      "cell_type": "markdown",
      "metadata": {
        "id": "jMN-IZnalFdI"
      },
      "source": [
        "### Robust ML production anywhere\n",
        "TensorFlow has always provided a direct path to production. Whether it’s on servers, edge devices, or the web, TensorFlow lets you train and deploy your model easily, no matter what language or platform you use.\n",
        "\n",
        "Use TensorFlow Extended (TFX) if you need a full production ML pipeline. For running inference on mobile and edge devices, use TensorFlow Lite. Train and deploy models in JavaScript environments using TensorFlow.js."
      ]
    },
    {
      "cell_type": "markdown",
      "metadata": {
        "id": "mdQePGOdlMUw"
      },
      "source": [
        "### Powerful experimentation for research\n",
        "Build and train state-of-the-art models without sacrificing speed or performance. TensorFlow gives you the flexibility and control with features like the Keras Functional API and Model Subclassing API for creation of complex topologies. For easy prototyping and fast debugging, use eager execution.\n",
        "\n",
        "TensorFlow also supports an ecosystem of powerful add-on libraries and models to experiment with, including Ragged Tensors, TensorFlow Probability, Tensor2Tensor and BERT."
      ]
    },
    {
      "cell_type": "code",
      "metadata": {
        "id": "GjAseJNgjwSq",
        "colab": {
          "base_uri": "https://localhost:8080/",
          "height": 34
        },
        "outputId": "239bebfe-e8d1-4251-dfeb-a08c52010742"
      },
      "source": [
        "'''\n",
        "!pip install --upgrade tensorflow\n",
        "!pip install --upgrade tensorflow-gpu\n",
        "'''"
      ],
      "execution_count": null,
      "outputs": [
        {
          "output_type": "execute_result",
          "data": {
            "text/plain": [
              "'\\n!pip install --upgrade tensorflow\\n!pip install --upgrade tensorflow-gpu\\n'"
            ]
          },
          "metadata": {
            "tags": []
          },
          "execution_count": 2
        }
      ]
    },
    {
      "cell_type": "code",
      "metadata": {
        "id": "n7MT_GHwlfbS",
        "colab": {
          "base_uri": "https://localhost:8080/",
          "height": 35
        },
        "outputId": "3f8fd228-5c8d-44e9-b31a-67b2a9c34184"
      },
      "source": [
        "# check the version\n",
        "import tensorflow as tf\n",
        "print(('Your TensorFlow version: {0}').format(tf.__version__))"
      ],
      "execution_count": null,
      "outputs": [
        {
          "output_type": "stream",
          "text": [
            "Your TensorFlow version: 2.2.0-rc3\n"
          ],
          "name": "stdout"
        }
      ]
    },
    {
      "cell_type": "markdown",
      "metadata": {
        "id": "6Fua7TBZlxgM"
      },
      "source": [
        "How to verify if running eager execution?\n",
        "\n",
        "Eager execution is a fairly new addition to the tensorflow framework, thus we wish to check if eager execution is enabled or disabled."
      ]
    },
    {
      "cell_type": "code",
      "metadata": {
        "id": "ta3hAFCUl1gd",
        "colab": {
          "base_uri": "https://localhost:8080/",
          "height": 104
        },
        "outputId": "dacedb2b-0c53-40b0-86bb-109746153058"
      },
      "source": [
        "if(tf.executing_eagerly()):\n",
        "    print('Eager execution is enabled (running operations immediately)\\n')\n",
        "    print(('Turn eager execution off by running: \\n{0}\\n{1}').format('' \\\n",
        "        'from tensorflow.python.framework.ops import disable_eager_execution', \\\n",
        "        'disable_eager_execution()'))\n",
        "else:\n",
        "    print('You are not running eager execution. TensorFlow version >= 2.0.0' \\\n",
        "          'has eager execution enabled by default.')\n",
        "    print(('Turn on eager execution by running: \\n\\n{0}\\n\\nOr upgrade '\\\n",
        "           'your tensorflow version by running:\\n\\n{1}').format(\n",
        "           'tf.compat.v1.enable_eager_execution()'))"
      ],
      "execution_count": null,
      "outputs": [
        {
          "output_type": "stream",
          "text": [
            "Eager execution is enabled (running operations immediately)\n",
            "\n",
            "Turn eager execution off by running: \n",
            "from tensorflow.python.framework.ops import disable_eager_execution\n",
            "disable_eager_execution()\n"
          ],
          "name": "stdout"
        }
      ]
    },
    {
      "cell_type": "markdown",
      "metadata": {
        "id": "Rq2K_DC7mOHG"
      },
      "source": [
        "Verify if GPU is available and ready to be used"
      ]
    },
    {
      "cell_type": "code",
      "metadata": {
        "id": "oAXts2AVmNtq",
        "colab": {
          "base_uri": "https://localhost:8080/",
          "height": 176
        },
        "outputId": "e34a24f9-2132-4a46-d860-56972f6a9de9"
      },
      "source": [
        "print(('Is your GPU available for use? \\n{0}').format(\n",
        "    'Yes, your GPU is available: True' if tf.test.is_gpu_available() == True else 'No, your GPU is NOT available: False'\n",
        "))\n",
        "\n",
        "print(('\\nYour devices that are available:\\n{0}').format(\n",
        "    [device.name for device in tf.config.experimental.list_physical_devices()]\n",
        "))"
      ],
      "execution_count": null,
      "outputs": [
        {
          "output_type": "stream",
          "text": [
            "WARNING:tensorflow:From <ipython-input-3-9ea70369aac2>:2: is_gpu_available (from tensorflow.python.framework.test_util) is deprecated and will be removed in a future version.\n",
            "Instructions for updating:\n",
            "Use `tf.config.list_physical_devices('GPU')` instead.\n",
            "Is your GPU available for use? \n",
            "Yes, your GPU is available: True\n",
            "\n",
            "Your devices that are available:\n",
            "['/physical_device:CPU:0', '/physical_device:XLA_CPU:0', '/physical_device:XLA_GPU:0', '/physical_device:GPU:0']\n"
          ],
          "name": "stdout"
        }
      ]
    },
    {
      "cell_type": "markdown",
      "metadata": {
        "id": "meIAavg6mnva"
      },
      "source": [
        "Check the runtime comparison"
      ]
    },
    {
      "cell_type": "code",
      "metadata": {
        "id": "_SoUuPUymX-i",
        "colab": {
          "base_uri": "https://localhost:8080/",
          "height": 69
        },
        "outputId": "8d78603a-d540-4c3d-8f84-1521fb832bf3"
      },
      "source": [
        "import time\n",
        "\n",
        "cpu_slot = 0\n",
        "gpu_slot = 0\n",
        "\n",
        "# Using CPU at slot 0\n",
        "with tf.device('/CPU:' + str(cpu_slot)):\n",
        "    # Starting a timer\n",
        "    start = time.time()\n",
        "\n",
        "    # Doing operations on CPU\n",
        "    random_image_cpu = tf.random.normal((100, 100, 100, 3))\n",
        "    net_cpu = tf.reduce_sum(random_image_cpu)\n",
        "\n",
        "    # Printing how long it took with CPU\n",
        "    end_cpu = time.time() - start\n",
        "    print(end_cpu)\n",
        "\n",
        "# Using the GPU at slot 0\n",
        "with tf.device('/GPU:' + str(gpu_slot)):\n",
        "    # Starting a timer\n",
        "    start = time.time()\n",
        "\n",
        "    # Doing operations on GPU\n",
        "    random_image_gpu = tf.random.normal((100, 100, 100, 3))\n",
        "    net_gpu = tf.reduce_sum(random_image_gpu)\n",
        "\n",
        "    # Printing how long it took with GPU\n",
        "    end_gpu = time.time() - start\n",
        "    print(end_gpu)\n",
        "print('GPU speedup over CPU: {}x'.format(int(end_cpu/end_gpu)))"
      ],
      "execution_count": null,
      "outputs": [
        {
          "output_type": "stream",
          "text": [
            "0.0601348876953125\n",
            "0.0006937980651855469\n",
            "GPU speedup over CPU: 86x\n"
          ],
          "name": "stdout"
        }
      ]
    },
    {
      "cell_type": "markdown",
      "metadata": {
        "id": "Mnk9WgLznexv"
      },
      "source": [
        "Basic Datatypes"
      ]
    },
    {
      "cell_type": "markdown",
      "metadata": {
        "id": "8ArPSlQ4njYA"
      },
      "source": [
        "**Constant**\n"
      ]
    },
    {
      "cell_type": "code",
      "metadata": {
        "id": "uQIA2PXVnnIL",
        "colab": {
          "base_uri": "https://localhost:8080/",
          "height": 35
        },
        "outputId": "61ed57ca-2877-473c-a9d4-185e6659111e"
      },
      "source": [
        "c = tf.constant(4.0, dtype=tf.float64)\n",
        "c.dtype"
      ],
      "execution_count": null,
      "outputs": [
        {
          "output_type": "execute_result",
          "data": {
            "text/plain": [
              "tf.float64"
            ]
          },
          "metadata": {
            "tags": []
          },
          "execution_count": 8
        }
      ]
    },
    {
      "cell_type": "code",
      "metadata": {
        "id": "vKXMJZEgoX5P",
        "colab": {
          "base_uri": "https://localhost:8080/",
          "height": 35
        },
        "outputId": "b06a4f7c-021e-496a-ae67-0c61102a732d"
      },
      "source": [
        "import numpy as np\n",
        "d = np.array([ [1,2,3], [4,5,6]])\n",
        "d.dtype"
      ],
      "execution_count": null,
      "outputs": [
        {
          "output_type": "execute_result",
          "data": {
            "text/plain": [
              "dtype('int64')"
            ]
          },
          "metadata": {
            "tags": []
          },
          "execution_count": 9
        }
      ]
    },
    {
      "cell_type": "code",
      "metadata": {
        "id": "6TTHXQKWodYA",
        "colab": {
          "base_uri": "https://localhost:8080/",
          "height": 69
        },
        "outputId": "340f3472-5650-4bc2-f096-b5583a892481"
      },
      "source": [
        "tf.constant(d)"
      ],
      "execution_count": null,
      "outputs": [
        {
          "output_type": "execute_result",
          "data": {
            "text/plain": [
              "<tf.Tensor: shape=(2, 3), dtype=int64, numpy=\n",
              "array([[1, 2, 3],\n",
              "       [4, 5, 6]])>"
            ]
          },
          "metadata": {
            "tags": []
          },
          "execution_count": 10
        }
      ]
    },
    {
      "cell_type": "code",
      "metadata": {
        "id": "FyxVHoqfolIE",
        "colab": {
          "base_uri": "https://localhost:8080/",
          "height": 35
        },
        "outputId": "5064bab6-2507-4488-e807-e779e94f09cb"
      },
      "source": [
        "b = tf.constant( [1,0,1]) \n",
        "b = tf.expand_dims(b,1)\n",
        "b.shape"
      ],
      "execution_count": null,
      "outputs": [
        {
          "output_type": "execute_result",
          "data": {
            "text/plain": [
              "TensorShape([3, 1])"
            ]
          },
          "metadata": {
            "tags": []
          },
          "execution_count": 11
        }
      ]
    },
    {
      "cell_type": "code",
      "metadata": {
        "id": "FKCokg4MuPt7",
        "colab": {
          "base_uri": "https://localhost:8080/",
          "height": 87
        },
        "outputId": "27fcab48-fad6-49bf-f339-6bd8307300a5"
      },
      "source": [
        "tf.random.normal(shape=(3, 3), mean=0., stddev=1.)"
      ],
      "execution_count": null,
      "outputs": [
        {
          "output_type": "execute_result",
          "data": {
            "text/plain": [
              "<tf.Tensor: shape=(3, 3), dtype=float32, numpy=\n",
              "array([[-0.6727394, -0.5915279,  1.0192165],\n",
              "       [-0.6271459,  0.3197968,  0.9437131],\n",
              "       [-0.7455911, -1.3786653,  0.3780739]], dtype=float32)>"
            ]
          },
          "metadata": {
            "tags": []
          },
          "execution_count": 12
        }
      ]
    },
    {
      "cell_type": "code",
      "metadata": {
        "id": "OgSXd0T-uTwX",
        "colab": {
          "base_uri": "https://localhost:8080/",
          "height": 121
        },
        "outputId": "5ac9df56-1d37-476f-88dd-bc85c585ca6b"
      },
      "source": [
        "tf.random.uniform(shape=(5, 5), minval=0, maxval=10, dtype='int32')"
      ],
      "execution_count": null,
      "outputs": [
        {
          "output_type": "execute_result",
          "data": {
            "text/plain": [
              "<tf.Tensor: shape=(5, 5), dtype=int32, numpy=\n",
              "array([[7, 6, 6, 2, 5],\n",
              "       [6, 1, 5, 9, 5],\n",
              "       [2, 9, 4, 8, 6],\n",
              "       [8, 7, 7, 9, 8],\n",
              "       [3, 0, 6, 8, 7]], dtype=int32)>"
            ]
          },
          "metadata": {
            "tags": []
          },
          "execution_count": 14
        }
      ]
    },
    {
      "cell_type": "markdown",
      "metadata": {
        "id": "Vsu3IENkrPiT"
      },
      "source": [
        "**Variables**"
      ]
    },
    {
      "cell_type": "code",
      "metadata": {
        "id": "t8TJMm9arQmf",
        "colab": {
          "base_uri": "https://localhost:8080/",
          "height": 69
        },
        "outputId": "e182c002-a814-476c-a576-9243de669dac"
      },
      "source": [
        "init_vals = tf.random.normal((1,5),0,1)\n",
        "var = tf.Variable(init_vals)\n",
        "print(var)"
      ],
      "execution_count": null,
      "outputs": [
        {
          "output_type": "stream",
          "text": [
            "<tf.Variable 'Variable:0' shape=(1, 5) dtype=float32, numpy=\n",
            "array([[-0.07203823, -0.349976  , -0.8217562 , -0.9688817 , -0.895919  ]],\n",
            "      dtype=float32)>\n"
          ],
          "name": "stdout"
        }
      ]
    },
    {
      "cell_type": "code",
      "metadata": {
        "id": "4sJHvnOwmIMh",
        "colab": {
          "base_uri": "https://localhost:8080/",
          "height": 35
        },
        "outputId": "44354da8-f3b2-428b-ef44-e9095c41e6e1"
      },
      "source": [
        "var.dtype"
      ],
      "execution_count": null,
      "outputs": [
        {
          "output_type": "execute_result",
          "data": {
            "text/plain": [
              "tf.float32"
            ]
          },
          "metadata": {
            "tags": []
          },
          "execution_count": 16
        }
      ]
    },
    {
      "cell_type": "markdown",
      "metadata": {
        "id": "vQK6S0L1ubNL"
      },
      "source": [
        "We update the value of a Variable by using the methods .assign(value), or .assign_add(increment) or .assign_sub(decrement):"
      ]
    },
    {
      "cell_type": "code",
      "metadata": {
        "id": "ZpmZNtjEuh7m",
        "colab": {
          "base_uri": "https://localhost:8080/",
          "height": 69
        },
        "outputId": "87568afd-b937-4aac-a47a-b489d8f33815"
      },
      "source": [
        "initial_value = tf.random.normal(shape=(2, 2))\n",
        "a = tf.Variable(initial_value)\n",
        "print(a)"
      ],
      "execution_count": null,
      "outputs": [
        {
          "output_type": "stream",
          "text": [
            "<tf.Variable 'Variable:0' shape=(2, 2) dtype=float32, numpy=\n",
            "array([[ 0.16355716, -0.155026  ],\n",
            "       [ 0.9720334 ,  0.07927878]], dtype=float32)>\n"
          ],
          "name": "stdout"
        }
      ]
    },
    {
      "cell_type": "code",
      "metadata": {
        "id": "P6En2MDKua3o"
      },
      "source": [
        "new_value = tf.random.normal(shape=(2, 2))\n",
        "a.assign(new_value)\n",
        "for i in range(2):\n",
        "  for j in range(2):\n",
        "    assert a[i, j] == new_value[i, j]"
      ],
      "execution_count": null,
      "outputs": []
    },
    {
      "cell_type": "code",
      "metadata": {
        "id": "GKnyS_eHmbNh",
        "colab": {
          "base_uri": "https://localhost:8080/",
          "height": 69
        },
        "outputId": "91d8f497-e0e8-46f6-84d9-2d9782a52821"
      },
      "source": [
        "print (a)"
      ],
      "execution_count": null,
      "outputs": [
        {
          "output_type": "stream",
          "text": [
            "<tf.Variable 'Variable:0' shape=(2, 2) dtype=float32, numpy=\n",
            "array([[-0.822659  , -0.78677773],\n",
            "       [ 0.7877437 , -0.19192173]], dtype=float32)>\n"
          ],
          "name": "stdout"
        }
      ]
    },
    {
      "cell_type": "code",
      "metadata": {
        "id": "7l6PSFx-aq3D",
        "colab": {
          "base_uri": "https://localhost:8080/",
          "height": 69
        },
        "outputId": "e6ca1180-1932-4d1b-af0a-d901a35744e9"
      },
      "source": [
        "print(new_value)"
      ],
      "execution_count": null,
      "outputs": [
        {
          "output_type": "stream",
          "text": [
            "tf.Tensor(\n",
            "[[-0.822659   -0.78677773]\n",
            " [ 0.7877437  -0.19192173]], shape=(2, 2), dtype=float32)\n"
          ],
          "name": "stdout"
        }
      ]
    },
    {
      "cell_type": "code",
      "metadata": {
        "id": "tO4mdlGXumvt"
      },
      "source": [
        "added_value = tf.random.normal(shape=(2, 2))\n",
        "a.assign_add(added_value)\n",
        "for i in range(2):\n",
        "  for j in range(2):\n",
        "    assert a[i, j] == new_value[i, j] + added_value[i, j]"
      ],
      "execution_count": null,
      "outputs": []
    },
    {
      "cell_type": "code",
      "metadata": {
        "id": "ZIJNerMJmnRG",
        "colab": {
          "base_uri": "https://localhost:8080/",
          "height": 69
        },
        "outputId": "e3b0d91c-afd9-4432-d007-efc941a3e328"
      },
      "source": [
        "print(a)"
      ],
      "execution_count": null,
      "outputs": [
        {
          "output_type": "stream",
          "text": [
            "<tf.Variable 'Variable:0' shape=(2, 2) dtype=float32, numpy=\n",
            "array([[-2.0783405 , -1.388123  ],\n",
            "       [ 0.34863335, -0.8315713 ]], dtype=float32)>\n"
          ],
          "name": "stdout"
        }
      ]
    },
    {
      "cell_type": "code",
      "metadata": {
        "id": "TtDgfx7ru0OJ"
      },
      "source": [
        "a = tf.random.normal(shape=(2, 2))\n",
        "b = tf.random.normal(shape=(2, 2))\n",
        "\n",
        "c = a + b\n",
        "d = tf.square(c)\n",
        "e = tf.exp(d)"
      ],
      "execution_count": null,
      "outputs": []
    },
    {
      "cell_type": "code",
      "metadata": {
        "id": "XbgUOeQAu4En",
        "colab": {
          "base_uri": "https://localhost:8080/",
          "height": 139
        },
        "outputId": "5325b809-3222-4ac5-e0c6-fc38ebdf4a1c"
      },
      "source": [
        "print (c,d,e)"
      ],
      "execution_count": null,
      "outputs": [
        {
          "output_type": "stream",
          "text": [
            "tf.Tensor(\n",
            "[[-0.34693345 -3.2082095 ]\n",
            " [-2.7961845  -0.42699003]], shape=(2, 2), dtype=float32) tf.Tensor(\n",
            "[[ 0.12036282 10.292608  ]\n",
            " [ 7.818648    0.18232049]], shape=(2, 2), dtype=float32) tf.Tensor(\n",
            "[[1.1279060e+00 2.9513654e+04]\n",
            " [2.4865410e+03 1.1999987e+00]], shape=(2, 2), dtype=float32)\n"
          ],
          "name": "stdout"
        }
      ]
    },
    {
      "cell_type": "markdown",
      "metadata": {
        "id": "DwR3H7bNr5Uu"
      },
      "source": [
        "**Simple Operations**\n",
        "\n",
        "We need to know the basic operations in tensorflow, in order to be able to use tensorflow for most of our work.\n",
        "\n",
        "**Common Use**\n",
        "\n",
        "This is some of the common functions from tensorflow, that you will probably need to use at some point.\n",
        "\n",
        "* Making tensors tf.constant and tf.Variable\n",
        "\n",
        "* Concatenation of two tensors by tf.concat\n",
        "\n",
        "* Making tensors by tf.zeros or tf.ones\n",
        "\n",
        "* Reshape data by tf.reshape\n",
        "\n",
        "* Casting tensors to other data types by tf.cast"
      ]
    },
    {
      "cell_type": "markdown",
      "metadata": {
        "id": "OYq1CjOtsZMJ"
      },
      "source": [
        "Concatenation by tf.concat and making tensors by tf.constant"
      ]
    },
    {
      "cell_type": "code",
      "metadata": {
        "id": "cqxn6Jl_sVPm",
        "colab": {
          "base_uri": "https://localhost:8080/",
          "height": 173
        },
        "outputId": "c9c24c84-8b6d-4901-fed3-c06082d61907"
      },
      "source": [
        "# Making a constant tensor A, that does not change\n",
        "A = tf.constant([[3, 2],\n",
        "                 [5, 2]])\n",
        "\n",
        "# Making a Variable tensor VA, which can change. Notice it's .Variable\n",
        "VA = tf.Variable([[3, 2],\n",
        "                 [5, 2]])\n",
        "\n",
        "# Making another tensor B\n",
        "B = tf.constant([[9, 5],\n",
        "                 [1, 3]])\n",
        "\n",
        "# Concatenate columns\n",
        "AB_concatenated = tf.concat(values=[A, B], axis=1)\n",
        "print(('Adding B\\'s columns to A:\\n{0}').format(\n",
        "    AB_concatenated.numpy()\n",
        "))\n",
        "\n",
        "# Concatenate rows\n",
        "AB_concatenated = tf.concat(values=[A, B], axis=0)\n",
        "print(('\\nAdding B\\'s rows to A:\\n{0}').format(\n",
        "    AB_concatenated.numpy()\n",
        "))"
      ],
      "execution_count": null,
      "outputs": [
        {
          "output_type": "stream",
          "text": [
            "Adding B's columns to A:\n",
            "[[3 2 9 5]\n",
            " [5 2 1 3]]\n",
            "\n",
            "Adding B's rows to A:\n",
            "[[3 2]\n",
            " [5 2]\n",
            " [9 5]\n",
            " [1 3]]\n"
          ],
          "name": "stdout"
        }
      ]
    },
    {
      "cell_type": "markdown",
      "metadata": {
        "id": "_LDKQgHYtCnV"
      },
      "source": [
        "Making tensors by tf.zeros and tf.ones\n"
      ]
    },
    {
      "cell_type": "code",
      "metadata": {
        "id": "K72HOBvytGyL",
        "colab": {
          "base_uri": "https://localhost:8080/",
          "height": 208
        },
        "outputId": "d977c013-cbb6-460f-9d84-49347d220031"
      },
      "source": [
        "# Making a tensor filled with zeros. shape=[rows, columns]\n",
        "tensor = tf.zeros(shape=[3, 4], dtype=tf.int32)\n",
        "print(('Tensor full of zeros as int32, 3 rows and 4 columns:\\n{0}').format(\n",
        "    tensor.numpy()\n",
        "))\n",
        "\n",
        "# Making a tensor filled with zeros with data type of float32\n",
        "tensor = tf.ones(shape=[5, 3], dtype=tf.float32)\n",
        "print(('\\nTensor full of ones as float32, 5 rows and 3 columns:\\n{0}').format(\n",
        "    tensor.numpy()\n",
        "))"
      ],
      "execution_count": null,
      "outputs": [
        {
          "output_type": "stream",
          "text": [
            "Tensor full of zeros as int32, 3 rows and 4 columns:\n",
            "[[0 0 0 0]\n",
            " [0 0 0 0]\n",
            " [0 0 0 0]]\n",
            "\n",
            "Tensor full of ones as float32, 5 rows and 3 columns:\n",
            "[[1. 1. 1.]\n",
            " [1. 1. 1.]\n",
            " [1. 1. 1.]\n",
            " [1. 1. 1.]\n",
            " [1. 1. 1.]]\n"
          ],
          "name": "stdout"
        }
      ]
    },
    {
      "cell_type": "code",
      "metadata": {
        "id": "yrrSb66AtNdn",
        "colab": {
          "base_uri": "https://localhost:8080/",
          "height": 156
        },
        "outputId": "f1d6169c-9f67-4464-d3d4-b5568f463485"
      },
      "source": [
        "# Making a tensor for reshaping\n",
        "tensor = tf.constant([[3, 2],\n",
        "                      [5, 2],\n",
        "                      [9, 5],\n",
        "                      [1, 3]])\n",
        "\n",
        "# Reshaping the tensor into a shape of: shape = [rows, columns]\n",
        "reshaped_tensor = tf.reshape(tensor = tensor,\n",
        "                             shape = [1, 8])\n",
        "\n",
        "print(('Tensor BEFORE reshape:\\n{0}').format(\n",
        "    tensor.numpy()\n",
        "))\n",
        "print(('\\nTensor AFTER reshape:\\n{0}').format(\n",
        "    reshaped_tensor.numpy()\n",
        "))"
      ],
      "execution_count": null,
      "outputs": [
        {
          "output_type": "stream",
          "text": [
            "Tensor BEFORE reshape:\n",
            "[[3 2]\n",
            " [5 2]\n",
            " [9 5]\n",
            " [1 3]]\n",
            "\n",
            "Tensor AFTER reshape:\n",
            "[[3 2 5 2 9 5 1 3]]\n"
          ],
          "name": "stdout"
        }
      ]
    },
    {
      "cell_type": "code",
      "metadata": {
        "id": "VfzeXWSNtVuI",
        "colab": {
          "base_uri": "https://localhost:8080/",
          "height": 208
        },
        "outputId": "de0b35be-aa31-40e6-8012-f0b6d00eb83f"
      },
      "source": [
        "# Making a tensor\n",
        "tensor = tf.constant([[3.1, 2.8],\n",
        "                      [5.2, 2.3],\n",
        "                      [9.7, 5.5],\n",
        "                      [1.1, 3.4]], \n",
        "                      dtype=tf.float32)\n",
        "\n",
        "tensor_as_int = tf.cast(tensor, tf.int32)\n",
        "\n",
        "print(('Tensor with floats:\\n{0}').format(\n",
        "    tensor.numpy()\n",
        "))\n",
        "print(('\\nTensor cast from float to int (just remove the decimal, no rounding):\\n{0}').format(\n",
        "    tensor_as_int.numpy()\n",
        "))"
      ],
      "execution_count": null,
      "outputs": [
        {
          "output_type": "stream",
          "text": [
            "Tensor with floats:\n",
            "[[3.1 2.8]\n",
            " [5.2 2.3]\n",
            " [9.7 5.5]\n",
            " [1.1 3.4]]\n",
            "\n",
            "Tensor cast from float to int (just remove the decimal, no rounding):\n",
            "[[3 2]\n",
            " [5 2]\n",
            " [9 5]\n",
            " [1 3]]\n"
          ],
          "name": "stdout"
        }
      ]
    },
    {
      "cell_type": "markdown",
      "metadata": {
        "id": "CZhbGkH8tcS7"
      },
      "source": [
        "### The linear algebra operations\n",
        "* Transpose tensor\n",
        "* Matrix Multiplication\n",
        "* Element-wise multiplication\n",
        "* Identity Matrix\n",
        "* Determinant\n",
        "* Dot Product"
      ]
    },
    {
      "cell_type": "code",
      "metadata": {
        "id": "ISQcseLltin5",
        "colab": {
          "base_uri": "https://localhost:8080/",
          "height": 69
        },
        "outputId": "866ace36-8e96-43f2-91f1-137789a74360"
      },
      "source": [
        "# Some Matrix A\n",
        "A = tf.constant([[3, 7],\n",
        "                 [1, 9]])\n",
        "\n",
        "A = tf.transpose(A)\n",
        "\n",
        "print(('The transposed matrix A:\\n{0}').format(\n",
        "    A\n",
        "))"
      ],
      "execution_count": null,
      "outputs": [
        {
          "output_type": "stream",
          "text": [
            "The transposed matrix A:\n",
            "[[3 1]\n",
            " [7 9]]\n"
          ],
          "name": "stdout"
        }
      ]
    },
    {
      "cell_type": "code",
      "metadata": {
        "id": "kZNUbYcDtmJS",
        "colab": {
          "base_uri": "https://localhost:8080/",
          "height": 69
        },
        "outputId": "5e491dac-e585-401d-bb8c-f4fc4ccd201a"
      },
      "source": [
        "# Some Matrix A\n",
        "A = tf.constant([[3, 7],\n",
        "                 [1, 9]])\n",
        "\n",
        "# Some vector v\n",
        "v = tf.constant([[5],\n",
        "                 [2]])\n",
        "\n",
        "# Matrix multiplication of A.v^T\n",
        "Av = tf.matmul(A, v)\n",
        "\n",
        "print(('Matrix Multiplication of A and v results in a new Tensor:\\n{0}').format(\n",
        "    Av\n",
        "))"
      ],
      "execution_count": null,
      "outputs": [
        {
          "output_type": "stream",
          "text": [
            "Matrix Multiplication of A and v results in a new Tensor:\n",
            "[[29]\n",
            " [23]]\n"
          ],
          "name": "stdout"
        }
      ]
    },
    {
      "cell_type": "code",
      "metadata": {
        "id": "KFHtRNCwtp3d",
        "colab": {
          "base_uri": "https://localhost:8080/",
          "height": 69
        },
        "outputId": "56e8623f-8683-4da4-97a6-56eb6d635081"
      },
      "source": [
        "# Element-wise multiplication\n",
        "Av = tf.multiply(A, v)\n",
        "\n",
        "print(('Element-wise multiplication of A and v results in a new Tensor:\\n{0}').format(\n",
        "    Av\n",
        "))"
      ],
      "execution_count": null,
      "outputs": [
        {
          "output_type": "stream",
          "text": [
            "Element-wise multiplication of A and v results in a new Tensor:\n",
            "[[15 35]\n",
            " [ 2 18]]\n"
          ],
          "name": "stdout"
        }
      ]
    },
    {
      "cell_type": "code",
      "metadata": {
        "id": "p_bcCgbWtu4Z",
        "colab": {
          "base_uri": "https://localhost:8080/",
          "height": 156
        },
        "outputId": "9ce8a957-3602-464e-fc94-5b5b68b84fae"
      },
      "source": [
        "# Some Matrix A\n",
        "A = tf.constant([[3, 7],\n",
        "                 [1, 9],\n",
        "                 [2, 5]])\n",
        "\n",
        "# Get number of dimensions\n",
        "rows, columns = A.shape\n",
        "print(('Get rows and columns in tensor A:\\n{0} rows\\n{1} columns').format(\n",
        "    rows, columns\n",
        "))\n",
        "\n",
        "# Making identity matrix\n",
        "A_identity = tf.eye(num_rows = rows,\n",
        "                    num_columns = columns,\n",
        "                    dtype = tf.int32)\n",
        "print(('\\nThe identity matrix of A:\\n{0}').format(\n",
        "    A_identity.numpy()\n",
        "))"
      ],
      "execution_count": null,
      "outputs": [
        {
          "output_type": "stream",
          "text": [
            "Get rows and columns in tensor A:\n",
            "3 rows\n",
            "2 columns\n",
            "\n",
            "The identity matrix of A:\n",
            "[[1 0]\n",
            " [0 1]\n",
            " [0 0]]\n"
          ],
          "name": "stdout"
        }
      ]
    },
    {
      "cell_type": "code",
      "metadata": {
        "id": "dvM490dUtwSu",
        "colab": {
          "base_uri": "https://localhost:8080/",
          "height": 52
        },
        "outputId": "43547c5b-2f39-4784-82db-8acc550b0a71"
      },
      "source": [
        "# Reusing Matrix A\n",
        "A = tf.constant([[3, 7],\n",
        "                 [1, 9]])\n",
        "\n",
        "# Determinant must be: half, float32, float64, complex64, complex128\n",
        "# Thus, we cast A to the data type float32\n",
        "A = tf.dtypes.cast(A, tf.float32)\n",
        "\n",
        "# Finding the determinant of A\n",
        "det_A = tf.linalg.det(A)\n",
        "\n",
        "print(('The determinant of A:\\n{0}').format(\n",
        "    det_A\n",
        "))"
      ],
      "execution_count": null,
      "outputs": [
        {
          "output_type": "stream",
          "text": [
            "The determinant of A:\n",
            "20.000001907348633\n"
          ],
          "name": "stdout"
        }
      ]
    },
    {
      "cell_type": "code",
      "metadata": {
        "id": "5Tml7JLqt4Lg",
        "colab": {
          "base_uri": "https://localhost:8080/",
          "height": 173
        },
        "outputId": "62d67921-6241-4aa5-f339-ee6ea7514d24"
      },
      "source": [
        "# Defining a 3x3 matrix\n",
        "A = tf.constant([[32, 83, 5],\n",
        "                 [17, 23, 10],\n",
        "                 [75, 39, 52]])\n",
        "\n",
        "# Defining another 3x3 matrix\n",
        "B = tf.constant([[28, 57, 20],\n",
        "                 [91, 10, 95],\n",
        "                 [37, 13, 45]])\n",
        "\n",
        "# Finding the dot product\n",
        "dot_AB = tf.tensordot(a=A, b=B, axes=1).numpy()\n",
        "\n",
        "print(('Dot product of A.B^T results in a new Tensor:\\n{0}').format(\n",
        "    dot_AB\n",
        "))\n",
        "\n",
        "# Which is the same as matrix multiplication in this instance (axes=1)\n",
        "# Matrix multiplication of A and B\n",
        "AB = tf.matmul(A, B)\n",
        "\n",
        "print(('\\nMatrix Multiplication of A.B^T results in a new Tensor:\\n{0}').format(\n",
        "    AB\n",
        "))"
      ],
      "execution_count": null,
      "outputs": [
        {
          "output_type": "stream",
          "text": [
            "Dot product of A.B^T results in a new Tensor:\n",
            "[[8634 2719 8750]\n",
            " [2939 1329 2975]\n",
            " [7573 5341 7545]]\n",
            "\n",
            "Matrix Multiplication of A.B^T results in a new Tensor:\n",
            "[[8634 2719 8750]\n",
            " [2939 1329 2975]\n",
            " [7573 5341 7545]]\n"
          ],
          "name": "stdout"
        }
      ]
    },
    {
      "cell_type": "markdown",
      "metadata": {
        "id": "lQnif_fst-XY"
      },
      "source": [
        "### Calculating Gradients\n",
        "When using gradient tape from TensorFlow, we need to create a tf.Variable and not tf.constant, because TensorFlow does not watch constants. The great thing about making variables is that we can use gradient tape at any time, and TensorFlow will automatically give us the gradient."
      ]
    },
    {
      "cell_type": "code",
      "metadata": {
        "id": "uKny5OJZuA78",
        "colab": {
          "base_uri": "https://localhost:8080/",
          "height": 69
        },
        "outputId": "59ae851f-fdf3-48a8-e084-cac3f618eb17"
      },
      "source": [
        "a = tf.random.normal(shape=(2, 2))\n",
        "b = tf.random.normal(shape=(2, 2))\n",
        "\n",
        "with tf.GradientTape() as tape:\n",
        "  tape.watch(a)  # Start recording the history of operations applied to `a`\n",
        "  c = tf.sqrt(tf.square(a) + tf.square(b))  # Do some math using `a`\n",
        "  # What's the gradient of `c` with respect to `a`?\n",
        "  dc_da = tape.gradient(c, a)\n",
        "  print(dc_da)"
      ],
      "execution_count": null,
      "outputs": [
        {
          "output_type": "stream",
          "text": [
            "tf.Tensor(\n",
            "[[-0.774521   -0.9548685 ]\n",
            " [-0.94835883 -0.6924982 ]], shape=(2, 2), dtype=float32)\n"
          ],
          "name": "stdout"
        }
      ]
    },
    {
      "cell_type": "code",
      "metadata": {
        "id": "UyEkKjaSvIUj",
        "colab": {
          "base_uri": "https://localhost:8080/",
          "height": 69
        },
        "outputId": "5d4039fb-e007-457a-e71c-b5235c1c1355"
      },
      "source": [
        "a = tf.Variable(a)\n",
        "\n",
        "with tf.GradientTape() as tape:\n",
        "  c = tf.sqrt(tf.square(a) + tf.square(b))\n",
        "  dc_da = tape.gradient(c, a)\n",
        "  print(dc_da)"
      ],
      "execution_count": null,
      "outputs": [
        {
          "output_type": "stream",
          "text": [
            "tf.Tensor(\n",
            "[[-0.774521   -0.9548685 ]\n",
            " [-0.94835883 -0.6924982 ]], shape=(2, 2), dtype=float32)\n"
          ],
          "name": "stdout"
        }
      ]
    },
    {
      "cell_type": "code",
      "metadata": {
        "id": "MfHvEMtWvL-n",
        "colab": {
          "base_uri": "https://localhost:8080/",
          "height": 69
        },
        "outputId": "c20b9721-4809-4781-b7ba-27a5df1eb4ca"
      },
      "source": [
        "with tf.GradientTape() as outer_tape:\n",
        "  with tf.GradientTape() as tape:\n",
        "    c = tf.sqrt(tf.square(a) + tf.square(b))\n",
        "    dc_da = tape.gradient(c, a)\n",
        "  d2c_da2 = outer_tape.gradient(dc_da, a)\n",
        "  print(d2c_da2)"
      ],
      "execution_count": null,
      "outputs": [
        {
          "output_type": "stream",
          "text": [
            "tf.Tensor(\n",
            "[[0.31680554 0.10983956]\n",
            " [0.05105579 0.3672317 ]], shape=(2, 2), dtype=float32)\n"
          ],
          "name": "stdout"
        }
      ]
    },
    {
      "cell_type": "markdown",
      "metadata": {
        "id": "Uhxm3yPWvT9B"
      },
      "source": [
        "Lets take an example of Hyperbolic Tan function (tanh) and try to get its derivative.\n"
      ]
    },
    {
      "cell_type": "markdown",
      "metadata": {
        "id": "CbCpEO82wNSC"
      },
      "source": [
        "![alt text](https://mathworld.wolfram.com/images/interactive/TanhReal.gif)"
      ]
    },
    {
      "cell_type": "code",
      "metadata": {
        "id": "_cviVWPQvbDR",
        "colab": {
          "base_uri": "https://localhost:8080/",
          "height": 35
        },
        "outputId": "fb4a97d1-3c7b-40c1-e673-3fb3134c76f1"
      },
      "source": [
        "import math\n",
        "\n",
        "def tanh(x):\n",
        "    return tf.tanh(x)\n",
        "\n",
        "def get_gradient(x, activation_function):\n",
        "    with tf.GradientTape() as gt:\n",
        "        y = activation_function(x)\n",
        "\n",
        "    gradient = gt.gradient(y, x).numpy()\n",
        "\n",
        "    return gradient\n",
        "\n",
        "x = tf.Variable(0.99)\n",
        "gradient = get_gradient(x, tanh)\n",
        "\n",
        "print('{0} is the gradient of tanh with x={1}'.format(gradient, x.numpy()))"
      ],
      "execution_count": null,
      "outputs": [
        {
          "output_type": "stream",
          "text": [
            "0.42640233039855957 is the gradient of tanh with x=0.9900000095367432\n"
          ],
          "name": "stdout"
        }
      ]
    },
    {
      "cell_type": "markdown",
      "metadata": {
        "id": "6178V2xWxF1z"
      },
      "source": [
        "### An end-to-end example: linear regression\n",
        "So far we have learned that TensorFlow is a Numpy-like library that is GPU or TPU accelerated, with automatic differentiation. Time for an end-to-end example: let's implement a linear regression."
      ]
    },
    {
      "cell_type": "code",
      "metadata": {
        "id": "SE0JpcJ6xNsp"
      },
      "source": [
        "input_dim = 2\n",
        "output_dim = 1\n",
        "learning_rate = 0.01 # subject to change\n",
        "\n",
        "# This is our weight matrix\n",
        "w = tf.Variable(tf.random.uniform(shape=(input_dim, output_dim))) # parameters, equal to theta\n",
        "# This is our bias vector\n",
        "b = tf.Variable(tf.zeros(shape=(output_dim,))) # intercept\n",
        "\n",
        "def compute_predictions(features): # define hypothesis\n",
        "  return tf.matmul(features, w) + b\n",
        "\n",
        "def compute_loss(labels, predictions): # define MSE\n",
        "  return tf.reduce_mean(tf.square(labels - predictions))\n",
        "\n",
        "def train(x, y): # training and updating through GD updates\n",
        "  with tf.GradientTape() as tape:\n",
        "    predictions = compute_predictions(x) # y_pred or y hat\n",
        "    loss = compute_loss(y, predictions)  # loss returned\n",
        "    dloss_dw, dloss_db = tape.gradient(loss, [w, b]) # gradient w.r.t. w and b\n",
        "  w.assign_sub(learning_rate * dloss_dw) # reassign weights\n",
        "  b.assign_sub(learning_rate * dloss_db) # reassign bias\n",
        "  return loss"
      ],
      "execution_count": null,
      "outputs": []
    },
    {
      "cell_type": "code",
      "metadata": {
        "id": "IR899iPvyUUW"
      },
      "source": [
        "# Homework. \n",
        "'''To generate data and utilize the above code to run a simple linear regression.'''\n",
        "tol = 1e-3\n",
        "# write function for predict\n",
        "# write a R2 score metric\n",
        "# write a loop and stop when tolerance condition is met"
      ],
      "execution_count": null,
      "outputs": []
    },
    {
      "cell_type": "markdown",
      "metadata": {
        "id": "2SHwiN21ybHD"
      },
      "source": [
        "**Going fast with graphs**\n",
        "\n",
        "Literally all we need to do is add the tf.function decorator on it"
      ]
    },
    {
      "cell_type": "code",
      "metadata": {
        "id": "HaMGa3viy5rQ"
      },
      "source": [
        "# dummy code\n",
        "@tf.function\n",
        "def train_on_batch(x, y):\n",
        "  with tf.GradientTape() as tape:\n",
        "    predictions = compute_predictions(x)\n",
        "    loss = compute_loss(y, predictions)\n",
        "    dloss_dw, dloss_db = tape.gradient(loss, [w, b])\n",
        "  w.assign_sub(learning_rate * dloss_dw)\n",
        "  b.assign_sub(learning_rate * dloss_db)\n",
        "  return loss"
      ],
      "execution_count": null,
      "outputs": []
    },
    {
      "cell_type": "markdown",
      "metadata": {
        "id": "afnpEWu_zMSH"
      },
      "source": [
        "Lets see how fast it could go!"
      ]
    },
    {
      "cell_type": "code",
      "metadata": {
        "id": "3zcV8VMyzHkV",
        "colab": {
          "base_uri": "https://localhost:8080/",
          "height": 121
        },
        "outputId": "71986844-66a3-4717-dd93-289706331c51"
      },
      "source": [
        "import timeit\n",
        "conv_layer = tf.keras.layers.Conv2D(100, 3)\n",
        "\n",
        "@tf.function\n",
        "def conv_fn(image):\n",
        "  return conv_layer(image)\n",
        "\n",
        "image = tf.zeros([1, 200, 200, 100])\n",
        "# warm up\n",
        "conv_layer(image); conv_fn(image)\n",
        "\n",
        "no_tf_fn = timeit.timeit(lambda: conv_layer(image), number=10) # tensorflow layer\n",
        "with_tf_fn = timeit.timeit(lambda: conv_fn(image), number=10) # graph\n",
        "difference = no_tf_fn - with_tf_fn\n",
        "\n",
        "print(\"Without tf.function: \", no_tf_fn)\n",
        "print(\"With tf.function: \", with_tf_fn)\n",
        "print(\"The difference: \", difference)\n",
        "\n",
        "print(\"\\nJust imagine when we have to do millions/billions of these calculations\")\n",
        "print(\"Difference times a billion: \", difference*1000000000)"
      ],
      "execution_count": null,
      "outputs": [
        {
          "output_type": "stream",
          "text": [
            "Without tf.function:  0.005968030000076396\n",
            "With tf.function:  0.003975311999965925\n",
            "The difference:  0.0019927180001104716\n",
            "\n",
            "Just imagine when we have to do millions/billions of these calculations\n",
            "Difference times a billion:  1992718.0001104716\n"
          ],
          "name": "stdout"
        }
      ]
    }
  ]
}