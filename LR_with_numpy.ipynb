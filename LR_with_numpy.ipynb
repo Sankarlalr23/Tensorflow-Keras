{
  "nbformat": 4,
  "nbformat_minor": 0,
  "metadata": {
    "colab": {
      "name": "LR_with_numpy.ipynb",
      "provenance": [],
      "collapsed_sections": [],
      "include_colab_link": true
    },
    "kernelspec": {
      "name": "python3",
      "display_name": "Python 3"
    }
  },
  "cells": [
    {
      "cell_type": "markdown",
      "metadata": {
        "id": "view-in-github",
        "colab_type": "text"
      },
      "source": [
        "<a href=\"https://colab.research.google.com/github/Sankarlalr23/Tensorflow-Keras/blob/main/LR_with_numpy.ipynb\" target=\"_parent\"><img src=\"https://colab.research.google.com/assets/colab-badge.svg\" alt=\"Open In Colab\"/></a>"
      ]
    },
    {
      "cell_type": "code",
      "metadata": {
        "id": "BDalWkpdFB1-"
      },
      "source": [
        "import numpy as np\n",
        "import matplotlib.pyplot as plt"
      ],
      "execution_count": null,
      "outputs": []
    },
    {
      "cell_type": "code",
      "metadata": {
        "id": "8JLiICJmFLE0",
        "colab": {
          "base_uri": "https://localhost:8080/"
        },
        "outputId": "6f782b69-0623-4842-81d9-f8ea7eff6aa6"
      },
      "source": [
        "np.random.seed(70)\n",
        "data_x = np.linspace(-10.0, 10.0, 100)[:, np.newaxis]\n",
        "data_y = np.sin(data_x) + 0.1 * np.power(data_x, 2) + 0.5 * np.random.randn(100, 1)\n",
        "# data_y = 29*data_x + 20* np.random.randn(100, 1)  # creating your data\n",
        "data_x /= np.max(data_x) #scaling\n",
        "data_x"
      ],
      "execution_count": null,
      "outputs": [
        {
          "output_type": "execute_result",
          "data": {
            "text/plain": [
              "array([[-1.        ],\n",
              "       [-0.97979798],\n",
              "       [-0.95959596],\n",
              "       [-0.93939394],\n",
              "       [-0.91919192],\n",
              "       [-0.8989899 ],\n",
              "       [-0.87878788],\n",
              "       [-0.85858586],\n",
              "       [-0.83838384],\n",
              "       [-0.81818182],\n",
              "       [-0.7979798 ],\n",
              "       [-0.77777778],\n",
              "       [-0.75757576],\n",
              "       [-0.73737374],\n",
              "       [-0.71717172],\n",
              "       [-0.6969697 ],\n",
              "       [-0.67676768],\n",
              "       [-0.65656566],\n",
              "       [-0.63636364],\n",
              "       [-0.61616162],\n",
              "       [-0.5959596 ],\n",
              "       [-0.57575758],\n",
              "       [-0.55555556],\n",
              "       [-0.53535354],\n",
              "       [-0.51515152],\n",
              "       [-0.49494949],\n",
              "       [-0.47474747],\n",
              "       [-0.45454545],\n",
              "       [-0.43434343],\n",
              "       [-0.41414141],\n",
              "       [-0.39393939],\n",
              "       [-0.37373737],\n",
              "       [-0.35353535],\n",
              "       [-0.33333333],\n",
              "       [-0.31313131],\n",
              "       [-0.29292929],\n",
              "       [-0.27272727],\n",
              "       [-0.25252525],\n",
              "       [-0.23232323],\n",
              "       [-0.21212121],\n",
              "       [-0.19191919],\n",
              "       [-0.17171717],\n",
              "       [-0.15151515],\n",
              "       [-0.13131313],\n",
              "       [-0.11111111],\n",
              "       [-0.09090909],\n",
              "       [-0.07070707],\n",
              "       [-0.05050505],\n",
              "       [-0.03030303],\n",
              "       [-0.01010101],\n",
              "       [ 0.01010101],\n",
              "       [ 0.03030303],\n",
              "       [ 0.05050505],\n",
              "       [ 0.07070707],\n",
              "       [ 0.09090909],\n",
              "       [ 0.11111111],\n",
              "       [ 0.13131313],\n",
              "       [ 0.15151515],\n",
              "       [ 0.17171717],\n",
              "       [ 0.19191919],\n",
              "       [ 0.21212121],\n",
              "       [ 0.23232323],\n",
              "       [ 0.25252525],\n",
              "       [ 0.27272727],\n",
              "       [ 0.29292929],\n",
              "       [ 0.31313131],\n",
              "       [ 0.33333333],\n",
              "       [ 0.35353535],\n",
              "       [ 0.37373737],\n",
              "       [ 0.39393939],\n",
              "       [ 0.41414141],\n",
              "       [ 0.43434343],\n",
              "       [ 0.45454545],\n",
              "       [ 0.47474747],\n",
              "       [ 0.49494949],\n",
              "       [ 0.51515152],\n",
              "       [ 0.53535354],\n",
              "       [ 0.55555556],\n",
              "       [ 0.57575758],\n",
              "       [ 0.5959596 ],\n",
              "       [ 0.61616162],\n",
              "       [ 0.63636364],\n",
              "       [ 0.65656566],\n",
              "       [ 0.67676768],\n",
              "       [ 0.6969697 ],\n",
              "       [ 0.71717172],\n",
              "       [ 0.73737374],\n",
              "       [ 0.75757576],\n",
              "       [ 0.77777778],\n",
              "       [ 0.7979798 ],\n",
              "       [ 0.81818182],\n",
              "       [ 0.83838384],\n",
              "       [ 0.85858586],\n",
              "       [ 0.87878788],\n",
              "       [ 0.8989899 ],\n",
              "       [ 0.91919192],\n",
              "       [ 0.93939394],\n",
              "       [ 0.95959596],\n",
              "       [ 0.97979798],\n",
              "       [ 1.        ]])"
            ]
          },
          "metadata": {
            "tags": []
          },
          "execution_count": 11
        }
      ]
    },
    {
      "cell_type": "code",
      "metadata": {
        "id": "4TdaAALnFUOe",
        "colab": {
          "base_uri": "https://localhost:8080/"
        },
        "outputId": "447c8231-3825-404e-a216-9b8e3bef35f6"
      },
      "source": [
        "data_x = np.hstack((np.ones_like(data_x), data_x))\n",
        "data_x"
      ],
      "execution_count": null,
      "outputs": [
        {
          "output_type": "execute_result",
          "data": {
            "text/plain": [
              "array([[ 1.        , -1.        ],\n",
              "       [ 1.        , -0.97979798],\n",
              "       [ 1.        , -0.95959596],\n",
              "       [ 1.        , -0.93939394],\n",
              "       [ 1.        , -0.91919192],\n",
              "       [ 1.        , -0.8989899 ],\n",
              "       [ 1.        , -0.87878788],\n",
              "       [ 1.        , -0.85858586],\n",
              "       [ 1.        , -0.83838384],\n",
              "       [ 1.        , -0.81818182],\n",
              "       [ 1.        , -0.7979798 ],\n",
              "       [ 1.        , -0.77777778],\n",
              "       [ 1.        , -0.75757576],\n",
              "       [ 1.        , -0.73737374],\n",
              "       [ 1.        , -0.71717172],\n",
              "       [ 1.        , -0.6969697 ],\n",
              "       [ 1.        , -0.67676768],\n",
              "       [ 1.        , -0.65656566],\n",
              "       [ 1.        , -0.63636364],\n",
              "       [ 1.        , -0.61616162],\n",
              "       [ 1.        , -0.5959596 ],\n",
              "       [ 1.        , -0.57575758],\n",
              "       [ 1.        , -0.55555556],\n",
              "       [ 1.        , -0.53535354],\n",
              "       [ 1.        , -0.51515152],\n",
              "       [ 1.        , -0.49494949],\n",
              "       [ 1.        , -0.47474747],\n",
              "       [ 1.        , -0.45454545],\n",
              "       [ 1.        , -0.43434343],\n",
              "       [ 1.        , -0.41414141],\n",
              "       [ 1.        , -0.39393939],\n",
              "       [ 1.        , -0.37373737],\n",
              "       [ 1.        , -0.35353535],\n",
              "       [ 1.        , -0.33333333],\n",
              "       [ 1.        , -0.31313131],\n",
              "       [ 1.        , -0.29292929],\n",
              "       [ 1.        , -0.27272727],\n",
              "       [ 1.        , -0.25252525],\n",
              "       [ 1.        , -0.23232323],\n",
              "       [ 1.        , -0.21212121],\n",
              "       [ 1.        , -0.19191919],\n",
              "       [ 1.        , -0.17171717],\n",
              "       [ 1.        , -0.15151515],\n",
              "       [ 1.        , -0.13131313],\n",
              "       [ 1.        , -0.11111111],\n",
              "       [ 1.        , -0.09090909],\n",
              "       [ 1.        , -0.07070707],\n",
              "       [ 1.        , -0.05050505],\n",
              "       [ 1.        , -0.03030303],\n",
              "       [ 1.        , -0.01010101],\n",
              "       [ 1.        ,  0.01010101],\n",
              "       [ 1.        ,  0.03030303],\n",
              "       [ 1.        ,  0.05050505],\n",
              "       [ 1.        ,  0.07070707],\n",
              "       [ 1.        ,  0.09090909],\n",
              "       [ 1.        ,  0.11111111],\n",
              "       [ 1.        ,  0.13131313],\n",
              "       [ 1.        ,  0.15151515],\n",
              "       [ 1.        ,  0.17171717],\n",
              "       [ 1.        ,  0.19191919],\n",
              "       [ 1.        ,  0.21212121],\n",
              "       [ 1.        ,  0.23232323],\n",
              "       [ 1.        ,  0.25252525],\n",
              "       [ 1.        ,  0.27272727],\n",
              "       [ 1.        ,  0.29292929],\n",
              "       [ 1.        ,  0.31313131],\n",
              "       [ 1.        ,  0.33333333],\n",
              "       [ 1.        ,  0.35353535],\n",
              "       [ 1.        ,  0.37373737],\n",
              "       [ 1.        ,  0.39393939],\n",
              "       [ 1.        ,  0.41414141],\n",
              "       [ 1.        ,  0.43434343],\n",
              "       [ 1.        ,  0.45454545],\n",
              "       [ 1.        ,  0.47474747],\n",
              "       [ 1.        ,  0.49494949],\n",
              "       [ 1.        ,  0.51515152],\n",
              "       [ 1.        ,  0.53535354],\n",
              "       [ 1.        ,  0.55555556],\n",
              "       [ 1.        ,  0.57575758],\n",
              "       [ 1.        ,  0.5959596 ],\n",
              "       [ 1.        ,  0.61616162],\n",
              "       [ 1.        ,  0.63636364],\n",
              "       [ 1.        ,  0.65656566],\n",
              "       [ 1.        ,  0.67676768],\n",
              "       [ 1.        ,  0.6969697 ],\n",
              "       [ 1.        ,  0.71717172],\n",
              "       [ 1.        ,  0.73737374],\n",
              "       [ 1.        ,  0.75757576],\n",
              "       [ 1.        ,  0.77777778],\n",
              "       [ 1.        ,  0.7979798 ],\n",
              "       [ 1.        ,  0.81818182],\n",
              "       [ 1.        ,  0.83838384],\n",
              "       [ 1.        ,  0.85858586],\n",
              "       [ 1.        ,  0.87878788],\n",
              "       [ 1.        ,  0.8989899 ],\n",
              "       [ 1.        ,  0.91919192],\n",
              "       [ 1.        ,  0.93939394],\n",
              "       [ 1.        ,  0.95959596],\n",
              "       [ 1.        ,  0.97979798],\n",
              "       [ 1.        ,  1.        ]])"
            ]
          },
          "metadata": {
            "tags": []
          },
          "execution_count": 12
        }
      ]
    },
    {
      "cell_type": "code",
      "metadata": {
        "id": "5o4IpF-zFWxc",
        "colab": {
          "base_uri": "https://localhost:8080/"
        },
        "outputId": "b70523d6-6b16-4ae5-fac0-be094e04e9fa"
      },
      "source": [
        "order = np.random.permutation(len(data_x))\n",
        "portion = 20\n",
        "test_x = data_x[order[:portion]]\n",
        "test_y = data_y[order[:portion]]\n",
        "train_x = data_x[order[portion:]]\n",
        "train_y = data_y[order[portion:]]\n",
        "print(order)\n",
        "print (test_x.shape, train_x.size, test_y.size, train_y.size)\n",
        "print (test_x)"
      ],
      "execution_count": null,
      "outputs": [
        {
          "output_type": "stream",
          "text": [
            "[10 17 12 68 38 88 16 27 24 58 40 31 42 85 78 69 37 65 76 66 72 97 98 39\n",
            "  0 44 45 77 51 21 84  9 96 56  8 74 32  1 60  3 28 62 80 57 18 29  4 34\n",
            " 25 49 81 93 36 70 71 89 83 43 63 75 92 87 91 73 23 46 48 82 14  5  2 53\n",
            " 67 59 13 52  7  6 19 20 47 54 99 90 33 41 35 22 61 55 94 30 15 79 86 95\n",
            " 64 11 26 50]\n",
            "(20, 2) 160 20 80\n",
            "[[ 1.         -0.7979798 ]\n",
            " [ 1.         -0.65656566]\n",
            " [ 1.         -0.75757576]\n",
            " [ 1.          0.37373737]\n",
            " [ 1.         -0.23232323]\n",
            " [ 1.          0.77777778]\n",
            " [ 1.         -0.67676768]\n",
            " [ 1.         -0.45454545]\n",
            " [ 1.         -0.51515152]\n",
            " [ 1.          0.17171717]\n",
            " [ 1.         -0.19191919]\n",
            " [ 1.         -0.37373737]\n",
            " [ 1.         -0.15151515]\n",
            " [ 1.          0.71717172]\n",
            " [ 1.          0.57575758]\n",
            " [ 1.          0.39393939]\n",
            " [ 1.         -0.25252525]\n",
            " [ 1.          0.31313131]\n",
            " [ 1.          0.53535354]\n",
            " [ 1.          0.33333333]]\n"
          ],
          "name": "stdout"
        }
      ]
    },
    {
      "cell_type": "code",
      "metadata": {
        "id": "KJU06clcU5iw",
        "colab": {
          "base_uri": "https://localhost:8080/",
          "height": 265
        },
        "outputId": "fc245c4e-e73a-4337-b31c-b4ff6413f746"
      },
      "source": [
        "plt.scatter(train_x[:,1], train_y, c='b', label='Data')\n",
        "plt.show()"
      ],
      "execution_count": null,
      "outputs": [
        {
          "output_type": "display_data",
          "data": {
            "image/png": "[encoded data removed]",
            "text/plain": [
              "<Figure size 432x288 with 1 Axes>"
            ]
          },
          "metadata": {
            "tags": [],
            "needs_background": "light"
          }
        }
      ]
    },
    {
      "cell_type": "code",
      "metadata": {
        "id": "2_qABGqzFZOm"
      },
      "source": [
        "def get_gradient(w, x, y):\n",
        "    y_estimate = (np.power(x,2).dot(w)).flatten() #hypothesis\n",
        "    error = (y.flatten() - y_estimate) \n",
        "    mse = (1.0/len(x))*np.sum(np.power(error,2)) # mse\n",
        "    gradient = -(1.0/len(x)) * error.dot(np.power(x,2))         # gradient\n",
        "    return gradient, mse"
      ],
      "execution_count": null,
      "outputs": []
    },
    {
      "cell_type": "code",
      "metadata": {
        "id": "XuzNhrcTFcm6",
        "colab": {
          "base_uri": "https://localhost:8080/"
        },
        "outputId": "7a9b3557-9ac6-4a39-f8e1-a5db80512103"
      },
      "source": [
        "w = np.random.randn(2) # Random Intialization\n",
        "alpha = 0.1 # learning rate\n",
        "tolerance = 1e-3 # param for stopping the loop\n",
        "print(\"Intial values of Weights:\")\n",
        "print(w[1], w[0])\n",
        "# Perform Gradient Descent\n",
        "iterations = 1\n",
        "while True:\n",
        "    gradient, error = get_gradient(w, train_x, train_y)\n",
        "    new_w = w - alpha * gradient\n",
        "#     print(gradient)\n",
        "    \n",
        "    # Stopping Condition\n",
        "    if np.sum(abs(new_w - w)) < tolerance:\n",
        "        print (\"Converged\")\n",
        "        break\n",
        "    \n",
        "    # Print error every 10 iterations\n",
        "    if iterations % 10 == 0:\n",
        "        print (\"Iteration: %d - Error: %.4f\" %(iterations, error))\n",
        "        print (\"Updated Weights : {:f} , {:f}\".format(w[1], w[0]))\n",
        "    iterations += 1\n",
        "    w = new_w\n",
        "\n",
        "print (\"Final Weights : {:f} , {:f}\".format(w[1], w[0]))\n",
        "print (\"Test Cost =\", get_gradient(w, test_x, test_y)[1])"
      ],
      "execution_count": null,
      "outputs": [
        {
          "output_type": "stream",
          "text": [
            "Intial values of Weights:\n",
            "-0.4884111631873461 -0.40592300845447754\n",
            "Iteration: 10 - Error: 9.6594\n",
            "Updated Weights : 1.225088 , 1.928468\n",
            "Iteration: 20 - Error: 6.4637\n",
            "Updated Weights : 2.285847 , 2.577214\n",
            "Iteration: 30 - Error: 5.3522\n",
            "Updated Weights : 3.028991 , 2.600323\n",
            "Iteration: 40 - Error: 4.5621\n",
            "Updated Weights : 3.640682 , 2.452255\n",
            "Iteration: 50 - Error: 3.9152\n",
            "Updated Weights : 4.179441 , 2.266756\n",
            "Iteration: 60 - Error: 3.3766\n",
            "Updated Weights : 4.665592 , 2.082400\n",
            "Iteration: 70 - Error: 2.9274\n",
            "Updated Weights : 5.107854 , 1.909584\n",
            "Iteration: 80 - Error: 2.5527\n",
            "Updated Weights : 5.511268 , 1.750426\n",
            "Iteration: 90 - Error: 2.2401\n",
            "Updated Weights : 5.879566 , 1.604668\n",
            "Iteration: 100 - Error: 1.9794\n",
            "Updated Weights : 6.215900 , 1.471427\n",
            "Iteration: 110 - Error: 1.7619\n",
            "Updated Weights : 6.523074 , 1.349697\n",
            "Iteration: 120 - Error: 1.5804\n",
            "Updated Weights : 6.803624 , 1.238506\n",
            "Iteration: 130 - Error: 1.4291\n",
            "Updated Weights : 7.059861 , 1.136948\n",
            "Iteration: 140 - Error: 1.3028\n",
            "Updated Weights : 7.293891 , 1.044190\n",
            "Iteration: 150 - Error: 1.1975\n",
            "Updated Weights : 7.507640 , 0.959471\n",
            "Iteration: 160 - Error: 1.1096\n",
            "Updated Weights : 7.702865 , 0.882093\n",
            "Iteration: 170 - Error: 1.0363\n",
            "Updated Weights : 7.881172 , 0.811421\n",
            "Iteration: 180 - Error: 0.9752\n",
            "Updated Weights : 8.044026 , 0.746873\n",
            "Iteration: 190 - Error: 0.9242\n",
            "Updated Weights : 8.192768 , 0.687919\n",
            "Iteration: 200 - Error: 0.8816\n",
            "Updated Weights : 8.328619 , 0.634074\n",
            "Iteration: 210 - Error: 0.8462\n",
            "Updated Weights : 8.452698 , 0.584895\n",
            "Iteration: 220 - Error: 0.8166\n",
            "Updated Weights : 8.566023 , 0.539979\n",
            "Iteration: 230 - Error: 0.7919\n",
            "Updated Weights : 8.669528 , 0.498954\n",
            "Iteration: 240 - Error: 0.7713\n",
            "Updated Weights : 8.764063 , 0.461485\n",
            "Iteration: 250 - Error: 0.7541\n",
            "Updated Weights : 8.850406 , 0.427263\n",
            "Iteration: 260 - Error: 0.7397\n",
            "Updated Weights : 8.929266 , 0.396007\n",
            "Iteration: 270 - Error: 0.7278\n",
            "Updated Weights : 9.001292 , 0.367459\n",
            "Iteration: 280 - Error: 0.7178\n",
            "Updated Weights : 9.067076 , 0.341385\n",
            "Iteration: 290 - Error: 0.7095\n",
            "Updated Weights : 9.127159 , 0.317571\n",
            "Iteration: 300 - Error: 0.7025\n",
            "Updated Weights : 9.182036 , 0.295821\n",
            "Iteration: 310 - Error: 0.6967\n",
            "Updated Weights : 9.232156 , 0.275956\n",
            "Iteration: 320 - Error: 0.6919\n",
            "Updated Weights : 9.277934 , 0.257812\n",
            "Iteration: 330 - Error: 0.6879\n",
            "Updated Weights : 9.319744 , 0.241240\n",
            "Iteration: 340 - Error: 0.6845\n",
            "Updated Weights : 9.357931 , 0.226105\n",
            "Iteration: 350 - Error: 0.6817\n",
            "Updated Weights : 9.392808 , 0.212281\n",
            "Iteration: 360 - Error: 0.6794\n",
            "Updated Weights : 9.424663 , 0.199655\n",
            "Iteration: 370 - Error: 0.6774\n",
            "Updated Weights : 9.453758 , 0.188123\n",
            "Iteration: 380 - Error: 0.6758\n",
            "Updated Weights : 9.480331 , 0.177591\n",
            "Iteration: 390 - Error: 0.6744\n",
            "Updated Weights : 9.504601 , 0.167972\n",
            "Iteration: 400 - Error: 0.6733\n",
            "Updated Weights : 9.526768 , 0.159186\n",
            "Iteration: 410 - Error: 0.6724\n",
            "Updated Weights : 9.547014 , 0.151161\n",
            "Iteration: 420 - Error: 0.6716\n",
            "Updated Weights : 9.565506 , 0.143832\n",
            "Iteration: 430 - Error: 0.6709\n",
            "Updated Weights : 9.582395 , 0.137138\n",
            "Iteration: 440 - Error: 0.6704\n",
            "Updated Weights : 9.597820 , 0.131024\n",
            "Iteration: 450 - Error: 0.6699\n",
            "Updated Weights : 9.611908 , 0.125440\n",
            "Iteration: 460 - Error: 0.6695\n",
            "Updated Weights : 9.624776 , 0.120340\n",
            "Iteration: 470 - Error: 0.6692\n",
            "Updated Weights : 9.636529 , 0.115682\n",
            "Iteration: 480 - Error: 0.6689\n",
            "Updated Weights : 9.647263 , 0.111427\n",
            "Iteration: 490 - Error: 0.6687\n",
            "Updated Weights : 9.657067 , 0.107542\n",
            "Iteration: 500 - Error: 0.6685\n",
            "Updated Weights : 9.666021 , 0.103993\n",
            "Iteration: 510 - Error: 0.6684\n",
            "Updated Weights : 9.674199 , 0.100751\n",
            "Converged\n",
            "Final Weights : 9.681669 , 0.097791\n",
            "Test Cost = 0.9060372347849219\n"
          ],
          "name": "stdout"
        }
      ]
    },
    {
      "cell_type": "code",
      "metadata": {
        "id": "r1UZuG1AHrVa",
        "colab": {
          "base_uri": "https://localhost:8080/"
        },
        "outputId": "17abfa7b-6389-4272-ed2e-410de40bed41"
      },
      "source": [
        "print(\"Final eqn / hypothesis looks like:\")\n",
        "print('y = {:f}.x^2 + {:f}'.format(w[1], w[0]))"
      ],
      "execution_count": null,
      "outputs": [
        {
          "output_type": "stream",
          "text": [
            "Final eqn / hypothesis looks like:\n",
            "y = 9.681669.x^2 + 0.097791\n"
          ],
          "name": "stdout"
        }
      ]
    },
    {
      "cell_type": "code",
      "metadata": {
        "id": "qkh4rdrEFkdf",
        "colab": {
          "base_uri": "https://localhost:8080/",
          "height": 279
        },
        "outputId": "0e1d0cee-165e-42fc-937f-23102e84bcd2"
      },
      "source": [
        "plt.plot(data_x[:,1], (data_x**2).dot(w), c='g', label='Model')\n",
        "plt.scatter(train_x[:,1], train_y, c='b', label='Train Set')\n",
        "plt.scatter(test_x[:,1], test_y, c='r', label='Test Set')\n",
        "plt.grid()\n",
        "plt.legend(loc='best')\n",
        "plt.xlabel('X')\n",
        "plt.ylabel('Y')\n",
        "plt.show()"
      ],
      "execution_count": null,
      "outputs": [
        {
          "output_type": "display_data",
          "data": {
            "image/png": "[encoded data removed]",
            "text/plain": [
              "<Figure size 432x288 with 1 Axes>"
            ]
          },
          "metadata": {
            "tags": [],
            "needs_background": "light"
          }
        }
      ]
    },
    {
      "cell_type": "code",
      "metadata": {
        "id": "T8k2vm1FOzg9",
        "colab": {
          "base_uri": "https://localhost:8080/"
        },
        "outputId": "a6c7860c-a97e-4c9b-f312-b2663774d5bd"
      },
      "source": [
        "w # trained model contains values of weights/parameters"
      ],
      "execution_count": null,
      "outputs": [
        {
          "output_type": "execute_result",
          "data": {
            "text/plain": [
              "array([ -2.54324973, 290.54799256])"
            ]
          },
          "metadata": {
            "tags": []
          },
          "execution_count": 10
        }
      ]
    }
  ]
}