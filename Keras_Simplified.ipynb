{
  "nbformat": 4,
  "nbformat_minor": 0,
  "metadata": {
    "colab": {
      "name": "Keras_Simplified.ipynb",
      "provenance": [],
      "collapsed_sections": [],
      "include_colab_link": true
    },
    "kernelspec": {
      "name": "python3",
      "display_name": "Python 3"
    },
    "accelerator": "GPU"
  },
  "cells": [
    {
      "cell_type": "markdown",
      "metadata": {
        "id": "view-in-github",
        "colab_type": "text"
      },
      "source": [
        "<a href=\"https://colab.research.google.com/github/Sankarlalr23/Tensorflow-Keras/blob/main/Keras_Simplified.ipynb\" target=\"_parent\"><img src=\"https://colab.research.google.com/assets/colab-badge.svg\" alt=\"Open In Colab\"/></a>"
      ]
    },
    {
      "cell_type": "markdown",
      "metadata": {
        "id": "83GhqtvLNFQO"
      },
      "source": [
        "# Keras\n",
        "\n",
        "Keras is a high-level neural networks API, written in Python and capable of running on top of TensorFlow, CNTK, or Theano. It was developed with a focus on enabling fast experimentation. Being able to go from idea to result with the least possible delay is key to doing good research.\n",
        "\n",
        "Use Keras if you need a deep learning library that:\n",
        "\n",
        "\n",
        "\n",
        "*   Allows for easy and fast prototyping (through user friendliness, modularity, and extensibility).\n",
        "*   Supports both convolutional networks and recurrent networks, as well as combinations of the two.\n",
        "*   Runs seamlessly on CPU and GPU.\n",
        "\n",
        "\n"
      ]
    },
    {
      "cell_type": "markdown",
      "metadata": {
        "id": "qWhh_ehpluZM"
      },
      "source": [
        "## Keras backends\n",
        "\n",
        "What is a \"backend\"?\n",
        "\n",
        "Keras is a model-level library, providing high-level building blocks for developing deep learning models. It does not handle itself low-level operations such as tensor products, convolutions and so on. Instead, it relies on a specialized, well-optimized tensor manipulation library to do so, serving as the \"backend engine\" of Keras. Rather than picking one single tensor library and making the implementation of Keras tied to that library, Keras handles the problem in a modular way, and several different backend engines can be plugged seamlessly into Keras.\n",
        "\n",
        "At this time, Keras has three backend implementations available: **the TensorFlow backend, the Theano backend, and the CNTK backend**.\n",
        "\n",
        "TensorFlow is an open-source symbolic tensor manipulation framework developed by Google.\n",
        "\n",
        "Theano is an open-source symbolic tensor manipulation framework developed by LISA Lab at Université de Montréal. ( No further development on this framework)\n",
        "\n",
        "CNTK is an open-source toolkit for deep learning developed by Microsoft."
      ]
    },
    {
      "cell_type": "code",
      "metadata": {
        "id": "clYg3xvabncf"
      },
      "source": [
        "import tensorflow as tf"
      ],
      "execution_count": null,
      "outputs": []
    },
    {
      "cell_type": "markdown",
      "metadata": {
        "id": "6a4UfNBWay_U"
      },
      "source": [
        "## Layers\n",
        "The first class you need to know is Layer. Pretty much everything in Keras derives from it.\n",
        "\n",
        "A Layer encapsulates a state (weights) and some computation (defined in the call method)."
      ]
    },
    {
      "cell_type": "code",
      "metadata": {
        "id": "XFHbwHk6a42U"
      },
      "source": [
        "tf.keras.layers.Layer(\n",
        "    trainable=True, name=None, dtype=None, dynamic=False, **kwargs\n",
        ")"
      ],
      "execution_count": null,
      "outputs": []
    },
    {
      "cell_type": "markdown",
      "metadata": {
        "id": "6JhqZlBobN3n"
      },
      "source": [
        "A layer is a class implementing common neural networks operations, such as convolution, batch norm, etc. These operations require managing weights, losses, updates, and inter-layer connectivity.\n",
        "\n",
        "Users will just instantiate a layer and then treat it as a callable.\n",
        "\n",
        "We recommend that descendants of Layer implement the following methods:\n",
        "\n",
        "**__init__()**: Save configuration in member variables\n",
        "\n",
        "**build()**: Called once from __call__, when we know the shapes of inputs and dtype. Should have the calls to add_weight(), and then call the super's build() (which sets self.built = True, which is nice in case the user wants to call build() manually before the first __call__).\n",
        "\n",
        "**call()**: Called in __call__ after making sure build() has been called once. Should actually perform the logic of applying the layer to the input tensors (which should be passed in as the first argument)."
      ]
    },
    {
      "cell_type": "code",
      "metadata": {
        "id": "CoFeHTTVbe3o"
      },
      "source": [
        "from tensorflow.keras.layers import Layer\n",
        "\n",
        "class Linear(Layer):\n",
        "  \"\"\"y = w.x + b\"\"\"\n",
        "\n",
        "  def __init__(self, units=32, input_dim=32): # constructor\n",
        "      super(Linear, self).__init__()\n",
        "      w_init = tf.random_normal_initializer() # weight's random normal intialization\n",
        "      self.w = tf.Variable(\n",
        "          initial_value=w_init(shape=(input_dim, units), dtype='float32'),\n",
        "          trainable=True)\n",
        "      b_init = tf.zeros_initializer() # bias intialized with Zero\n",
        "      self.b = tf.Variable(\n",
        "          initial_value=b_init(shape=(units,), dtype='float32'),\n",
        "          trainable=True)\n",
        "\n",
        "  def call(self, inputs):\n",
        "      return tf.matmul(inputs, self.w) + self.b"
      ],
      "execution_count": null,
      "outputs": []
    },
    {
      "cell_type": "markdown",
      "metadata": {
        "id": "Bn47JPUmOplq"
      },
      "source": [
        "### Model \n",
        "The core data structure of Keras is a model, a way to organize layers. The simplest type of model is the **Sequential model**, a linear stack of layers. For more complex architectures, you should use the Keras functional API, which allows to build arbitrary graphs of layers."
      ]
    },
    {
      "cell_type": "markdown",
      "metadata": {
        "id": "-q2biiyERX0K"
      },
      "source": [
        "Here's an example of a sequential model"
      ]
    },
    {
      "cell_type": "code",
      "metadata": {
        "id": "XKRz5ktMRSyC"
      },
      "source": [
        "from tensorflow.keras import Sequential\n",
        "\n",
        "model = Sequential()"
      ],
      "execution_count": null,
      "outputs": []
    },
    {
      "cell_type": "markdown",
      "metadata": {
        "id": "ho8OlNTTcxJ0"
      },
      "source": [
        "## Built-in layers\n",
        "\n",
        "Keras provides you with a [wide range of built-in layers](https://www.tensorflow.org/api_docs/python/tf/keras/layers/), so that you don't have to implement your own layers all the time.\n",
        "- Dense layers\n",
        "- Convolution layers\n",
        "- Transposed convolutions\n",
        "- Separateable convolutions\n",
        "- Average and max pooling\n",
        "- Global average and max pooling\n",
        "- LSTM, GRU (with built-in cuDNN acceleration)\n",
        "- BatchNormalization\n",
        "- Dropout\n",
        "- Attention\n",
        "- ConvLSTM2D"
      ]
    },
    {
      "cell_type": "markdown",
      "metadata": {
        "id": "5Q59yJ9mRoY8"
      },
      "source": [
        "Stacking is done through add()"
      ]
    },
    {
      "cell_type": "code",
      "metadata": {
        "id": "tF9hkE8kcjGS"
      },
      "source": [
        "# Optionally, the first layer can receive an `input_shape` argument:\n",
        "model = Sequential()\n",
        "model.add(Dense(32, input_shape=(500,)))\n",
        "# Afterwards, we do automatic shape inference:\n",
        "model.add(Dense(32))\n",
        "\n",
        "# This is identical to the following:\n",
        "model = Sequential()\n",
        "model.add(Dense(32, input_dim=500))\n",
        "\n",
        "# And to the following:\n",
        "model = Sequential()\n",
        "model.add(Dense(32, batch_input_shape=(None, 500)))\n",
        "\n",
        "# Note that you can also omit the `input_shape` argument:\n",
        "# In that case the model gets built the first time you call `fit` (or other\n",
        "# training and evaluation methods).\n",
        "model = Sequential()\n",
        "model.add(Dense(32))\n",
        "model.add(Dense(32))\n",
        "model.compile(optimizer=optimizer, loss=loss)\n",
        "# This builds the model for the first time:\n",
        "model.fit(x, y, batch_size=32, epochs=10)\n",
        "\n",
        "# Note that when using this delayed-build pattern (no input shape specified),\n",
        "# the model doesn't have any weights until the first call\n",
        "# to a training/evaluation method (since it isn't yet built):\n",
        "model = Sequential()\n",
        "model.add(Dense(32))\n",
        "model.add(Dense(32))\n",
        "model.weights  # returns []\n",
        "\n",
        "# Whereas if you specify the input shape, the model gets built continuously\n",
        "# as you are adding layers:\n",
        "model = Sequential()\n",
        "model.add(Dense(32, input_shape=(500,)))\n",
        "model.add(Dense(32))\n",
        "model.weights  # returns list of length 4\n",
        "\n",
        "# When using the delayed-build pattern (no input shape specified), you can\n",
        "# choose to manually build your model by calling `build(batch_input_shape)`:\n",
        "model = Sequential()\n",
        "model.add(Dense(32))\n",
        "model.add(Dense(32))\n",
        "model.build((None, 500))\n",
        "model.weights  # returns list of length 4"
      ],
      "execution_count": null,
      "outputs": []
    },
    {
      "cell_type": "markdown",
      "metadata": {
        "id": "z3Xgjg-QR3Nj"
      },
      "source": [
        "Once we build the model we configure the model's learning process with compile()"
      ]
    },
    {
      "cell_type": "code",
      "metadata": {
        "id": "JvhrZYaPSCxu",
        "colab": {
          "base_uri": "https://localhost:8080/",
          "height": 107
        },
        "outputId": "68f9ad76-b051-4d3b-aa1f-ebad15f6702a"
      },
      "source": [
        "compile(\n",
        "    optimizer='rmsprop', loss=None, metrics=None, loss_weights=None,\n",
        "    sample_weight_mode=None, weighted_metrics=None, target_tensors=None,\n",
        "    distribute=None, **kwargs\n",
        ")"
      ],
      "execution_count": null,
      "outputs": [
        {
          "output_type": "stream",
          "text": [
            "WARNING:tensorflow:From /usr/local/lib/python3.6/dist-packages/keras/optimizers.py:793: The name tf.train.Optimizer is deprecated. Please use tf.compat.v1.train.Optimizer instead.\n",
            "\n",
            "WARNING:tensorflow:From /usr/local/lib/python3.6/dist-packages/keras/backend/tensorflow_backend.py:3576: The name tf.log is deprecated. Please use tf.math.log instead.\n",
            "\n"
          ],
          "name": "stdout"
        }
      ]
    },
    {
      "cell_type": "markdown",
      "metadata": {
        "id": "Jbq3ioKYdYAV"
      },
      "source": [
        "**optimizer**: String (name of optimizer) or optimizer instance. See tf.keras.optimizers.\n",
        "\n",
        "**loss**: String (name of objective function), objective function or tf.keras.losses.Loss instance. See tf.keras.losses. An objective function is any callable with the signature scalar_loss = fn(y_true, y_pred). If the model has multiple outputs, you can use a different loss on each output by passing a dictionary or a list of losses. The loss value that will be minimized by the model will then be the sum of all individual losses.\n",
        "\n",
        "**metrics**: List of metrics to be evaluated by the model during training and testing. Typically you will use metrics=['accuracy']. To specify different metrics for different outputs of a multi-output model, you could also pass a dictionary, such as metrics={'output_a': 'accuracy', 'output_b': ['accuracy', 'mse']}. You can also pass a list (len = len(outputs)) of lists of metrics such as metrics=[['accuracy'], ['accuracy', 'mse']] or metrics=['accuracy', ['accuracy', 'mse']]."
      ]
    },
    {
      "cell_type": "markdown",
      "metadata": {
        "id": "znuTR-50d1lk"
      },
      "source": [
        "**evaluate()**\n",
        "\n",
        "Returns the loss value & metrics values for the model in test mode.\n",
        "\n",
        "Computation is done in batches."
      ]
    },
    {
      "cell_type": "code",
      "metadata": {
        "id": "DEBa6C7Gd8Oi"
      },
      "source": [
        "evaluate(\n",
        "    x=None, y=None, batch_size=None, verbose=1, sample_weight=None, steps=None,\n",
        "    callbacks=None, max_queue_size=10, workers=1, use_multiprocessing=False\n",
        ")"
      ],
      "execution_count": null,
      "outputs": []
    },
    {
      "cell_type": "markdown",
      "metadata": {
        "id": "fk6fd32PeSLK"
      },
      "source": [
        "**fit()**\n",
        "\n",
        "Trains the model for a fixed number of epochs (iterations on a dataset)."
      ]
    },
    {
      "cell_type": "code",
      "metadata": {
        "id": "AVpK4JODeUrq"
      },
      "source": [
        "fit(\n",
        "    x=None, y=None, batch_size=None, epochs=1, verbose=1, callbacks=None,\n",
        "    validation_split=0.0, validation_data=None, shuffle=True, class_weight=None,\n",
        "    sample_weight=None, initial_epoch=0, steps_per_epoch=None,\n",
        "    validation_steps=None, validation_freq=1, max_queue_size=10, workers=1,\n",
        "    use_multiprocessing=False, **kwargs\n",
        ")"
      ],
      "execution_count": null,
      "outputs": []
    },
    {
      "cell_type": "markdown",
      "metadata": {
        "id": "X4vxyxjvSHL9"
      },
      "source": [
        "You can now iterate on your training data in batches:"
      ]
    },
    {
      "cell_type": "code",
      "metadata": {
        "id": "2rTu5SlySapX",
        "colab": {
          "base_uri": "https://localhost:8080/",
          "height": 166
        },
        "outputId": "a0ed6abe-c388-46b8-ac18-6defe7b4497a"
      },
      "source": [
        "# dummy code\n",
        "# x_train and y_train are Numpy arrays --just like in the Scikit-Learn API.\n",
        "model.fit(x_train, y_train, epochs=5, batch_size=32)"
      ],
      "execution_count": null,
      "outputs": [
        {
          "output_type": "error",
          "ename": "NameError",
          "evalue": "ignored",
          "traceback": [
            "\u001b[0;31m---------------------------------------------------------------------------\u001b[0m",
            "\u001b[0;31mNameError\u001b[0m                                 Traceback (most recent call last)",
            "\u001b[0;32m<ipython-input-6-051991f233be>\u001b[0m in \u001b[0;36m<module>\u001b[0;34m()\u001b[0m\n\u001b[0;32m----> 1\u001b[0;31m \u001b[0mmodel\u001b[0m\u001b[0;34m.\u001b[0m\u001b[0mfit\u001b[0m\u001b[0;34m(\u001b[0m\u001b[0mx_train\u001b[0m\u001b[0;34m,\u001b[0m \u001b[0my_train\u001b[0m\u001b[0;34m,\u001b[0m \u001b[0mepochs\u001b[0m\u001b[0;34m=\u001b[0m\u001b[0;36m5\u001b[0m\u001b[0;34m,\u001b[0m \u001b[0mbatch_size\u001b[0m\u001b[0;34m=\u001b[0m\u001b[0;36m32\u001b[0m\u001b[0;34m)\u001b[0m\u001b[0;34m\u001b[0m\u001b[0;34m\u001b[0m\u001b[0m\n\u001b[0m",
            "\u001b[0;31mNameError\u001b[0m: name 'x_train' is not defined"
          ]
        }
      ]
    },
    {
      "cell_type": "markdown",
      "metadata": {
        "id": "2lViHZ8kSdz9"
      },
      "source": [
        "Evaluate your performance in one line:"
      ]
    },
    {
      "cell_type": "code",
      "metadata": {
        "id": "42DjEx2eSmy5"
      },
      "source": [
        "loss_and_metrics = model.evaluate(x_test, y_test, batch_size=128)"
      ],
      "execution_count": null,
      "outputs": []
    },
    {
      "cell_type": "markdown",
      "metadata": {
        "id": "X857qVXkSnnv"
      },
      "source": [
        "Or generate predictions on new data:"
      ]
    },
    {
      "cell_type": "code",
      "metadata": {
        "id": "Fv5nqLbhSrIe"
      },
      "source": [
        "classes = model.predict(x_test, batch_size=128)"
      ],
      "execution_count": null,
      "outputs": []
    },
    {
      "cell_type": "markdown",
      "metadata": {
        "id": "IEbco6_Eq8aa"
      },
      "source": [
        "### Keras MNIST Neural Net example"
      ]
    },
    {
      "cell_type": "code",
      "metadata": {
        "id": "xAUToqAfewTX",
        "colab": {
          "base_uri": "https://localhost:8080/",
          "height": 748
        },
        "outputId": "a334ed6d-03f4-4b37-b4ae-914599b9fb48"
      },
      "source": [
        "(x_train, y_train), (x_test, y_test) = tf.keras.datasets.mnist.load_data()\n",
        "x_train = x_train.reshape(60000, 784).astype('float32') / 255\n",
        "\n",
        "num_val_samples = 10000\n",
        "x_val = x_train[-num_val_samples:]\n",
        "y_val = y_train[-num_val_samples:]\n",
        "x_train = x_train[:-num_val_samples]\n",
        "y_train = y_train[:-num_val_samples]\n",
        "\n",
        "# Instantiate a simple classification model\n",
        "model = tf.keras.Sequential([\n",
        "  tf.keras.layers.Dense(256, activation=tf.nn.relu),\n",
        "  tf.keras.layers.Dense(256, activation=tf.nn.relu),\n",
        "  tf.keras.layers.Dense(10)\n",
        "])\n",
        "\n",
        "# Instantiate a logistic loss function that expects integer targets.\n",
        "loss = tf.keras.losses.SparseCategoricalCrossentropy(from_logits=True)\n",
        "\n",
        "# Instantiate an accuracy metric.\n",
        "accuracy = tf.keras.metrics.SparseCategoricalAccuracy()\n",
        "\n",
        "# Instantiate an optimizer.\n",
        "optimizer = tf.keras.optimizers.Adam()\n",
        "\n",
        "model.compile(optimizer=optimizer,\n",
        "              loss=loss,\n",
        "              metrics=[accuracy])\n",
        "model.fit(x_train, y_train,\n",
        "          validation_data=(x_val, y_val),\n",
        "          epochs=20,\n",
        "          batch_size=128)"
      ],
      "execution_count": null,
      "outputs": [
        {
          "output_type": "stream",
          "text": [
            "Epoch 1/20\n",
            "391/391 [==============================] - 1s 3ms/step - loss: 0.2883 - sparse_categorical_accuracy: 0.9157 - val_loss: 0.1223 - val_sparse_categorical_accuracy: 0.9651\n",
            "Epoch 2/20\n",
            "391/391 [==============================] - 1s 3ms/step - loss: 0.1094 - sparse_categorical_accuracy: 0.9670 - val_loss: 0.0947 - val_sparse_categorical_accuracy: 0.9726\n",
            "Epoch 3/20\n",
            "391/391 [==============================] - 1s 3ms/step - loss: 0.0697 - sparse_categorical_accuracy: 0.9785 - val_loss: 0.0793 - val_sparse_categorical_accuracy: 0.9767\n",
            "Epoch 4/20\n",
            "391/391 [==============================] - 1s 3ms/step - loss: 0.0518 - sparse_categorical_accuracy: 0.9839 - val_loss: 0.0833 - val_sparse_categorical_accuracy: 0.9744\n",
            "Epoch 5/20\n",
            "391/391 [==============================] - 1s 3ms/step - loss: 0.0372 - sparse_categorical_accuracy: 0.9881 - val_loss: 0.0828 - val_sparse_categorical_accuracy: 0.9761\n",
            "Epoch 6/20\n",
            "391/391 [==============================] - 1s 3ms/step - loss: 0.0272 - sparse_categorical_accuracy: 0.9917 - val_loss: 0.0783 - val_sparse_categorical_accuracy: 0.9773\n",
            "Epoch 7/20\n",
            "391/391 [==============================] - 1s 3ms/step - loss: 0.0211 - sparse_categorical_accuracy: 0.9935 - val_loss: 0.0843 - val_sparse_categorical_accuracy: 0.9768\n",
            "Epoch 8/20\n",
            "391/391 [==============================] - 1s 3ms/step - loss: 0.0175 - sparse_categorical_accuracy: 0.9941 - val_loss: 0.0804 - val_sparse_categorical_accuracy: 0.9780\n",
            "Epoch 9/20\n",
            "391/391 [==============================] - 1s 3ms/step - loss: 0.0171 - sparse_categorical_accuracy: 0.9946 - val_loss: 0.0948 - val_sparse_categorical_accuracy: 0.9768\n",
            "Epoch 10/20\n",
            "391/391 [==============================] - 1s 3ms/step - loss: 0.0156 - sparse_categorical_accuracy: 0.9945 - val_loss: 0.0862 - val_sparse_categorical_accuracy: 0.9780\n",
            "Epoch 11/20\n",
            "391/391 [==============================] - 1s 3ms/step - loss: 0.0117 - sparse_categorical_accuracy: 0.9962 - val_loss: 0.0827 - val_sparse_categorical_accuracy: 0.9810\n",
            "Epoch 12/20\n",
            "391/391 [==============================] - 1s 3ms/step - loss: 0.0109 - sparse_categorical_accuracy: 0.9965 - val_loss: 0.0830 - val_sparse_categorical_accuracy: 0.9799\n",
            "Epoch 13/20\n",
            "391/391 [==============================] - 1s 3ms/step - loss: 0.0126 - sparse_categorical_accuracy: 0.9958 - val_loss: 0.1100 - val_sparse_categorical_accuracy: 0.9740\n",
            "Epoch 14/20\n",
            "391/391 [==============================] - 1s 3ms/step - loss: 0.0103 - sparse_categorical_accuracy: 0.9965 - val_loss: 0.1012 - val_sparse_categorical_accuracy: 0.9778\n",
            "Epoch 15/20\n",
            "391/391 [==============================] - 1s 3ms/step - loss: 0.0070 - sparse_categorical_accuracy: 0.9976 - val_loss: 0.0972 - val_sparse_categorical_accuracy: 0.9791\n",
            "Epoch 16/20\n",
            "391/391 [==============================] - 1s 3ms/step - loss: 0.0058 - sparse_categorical_accuracy: 0.9982 - val_loss: 0.0970 - val_sparse_categorical_accuracy: 0.9806\n",
            "Epoch 17/20\n",
            "391/391 [==============================] - 1s 3ms/step - loss: 0.0088 - sparse_categorical_accuracy: 0.9973 - val_loss: 0.1109 - val_sparse_categorical_accuracy: 0.9793\n",
            "Epoch 18/20\n",
            "391/391 [==============================] - 1s 3ms/step - loss: 0.0101 - sparse_categorical_accuracy: 0.9965 - val_loss: 0.0969 - val_sparse_categorical_accuracy: 0.9801\n",
            "Epoch 19/20\n",
            "391/391 [==============================] - 1s 3ms/step - loss: 0.0074 - sparse_categorical_accuracy: 0.9976 - val_loss: 0.1046 - val_sparse_categorical_accuracy: 0.9789\n",
            "Epoch 20/20\n",
            "391/391 [==============================] - 1s 3ms/step - loss: 0.0045 - sparse_categorical_accuracy: 0.9986 - val_loss: 0.1133 - val_sparse_categorical_accuracy: 0.9792\n"
          ],
          "name": "stdout"
        },
        {
          "output_type": "execute_result",
          "data": {
            "text/plain": [
              "<tensorflow.python.keras.callbacks.History at 0x7fd980220320>"
            ]
          },
          "metadata": {
            "tags": []
          },
          "execution_count": 4
        }
      ]
    },
    {
      "cell_type": "markdown",
      "metadata": {
        "id": "DgjwTFnBfqcB"
      },
      "source": [
        "## Building a Neural Network for Regression Task"
      ]
    },
    {
      "cell_type": "code",
      "metadata": {
        "id": "rN2NH7ACfvIq"
      },
      "source": [
        "import pandas as pd\n",
        "import numpy as np\n",
        "import tensorflow as tf\n",
        "\n",
        "import matplotlib.pyplot as plt\n",
        "%matplotlib inline\n",
        "\n",
        "import seaborn as sns\n",
        "sns.set(style=\"darkgrid\")\n",
        "from tensorflow.keras.layers import Input, Dense\n",
        "from tensorflow.keras.models import Model"
      ],
      "execution_count": null,
      "outputs": []
    },
    {
      "cell_type": "code",
      "metadata": {
        "id": "KKA7U8vGf3G1",
        "colab": {
          "resources": {
            "http://localhost:8080/nbextensions/google.colab/files.js": {
              "data": "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",
              "ok": true,
              "headers": [
                [
                  "content-type",
                  "application/javascript"
                ]
              ],
              "status": 200,
              "status_text": ""
            }
          },
          "base_uri": "https://localhost:8080/",
          "height": 93
        },
        "outputId": "3ca6085f-b61a-4fbd-e9eb-1525199b8506"
      },
      "source": [
        "from google.colab import files\n",
        "\n",
        "uploaded = files.upload()\n",
        "\n",
        "for fn in uploaded.keys():\n",
        "  print('User uploaded file \"{name}\" with length {length} bytes'.format(\n",
        "      name=fn, length=len(uploaded[fn])))"
      ],
      "execution_count": null,
      "outputs": [
        {
          "output_type": "display_data",
          "data": {
            "text/html": [
              "\n",
              "     <input type=\"file\" id=\"files-1906eb2c-2b54-43fa-878f-c2bc79989f63\" name=\"files[]\" multiple disabled />\n",
              "     <output id=\"result-1906eb2c-2b54-43fa-878f-c2bc79989f63\">\n",
              "      Upload widget is only available when the cell has been executed in the\n",
              "      current browser session. Please rerun this cell to enable.\n",
              "      </output>\n",
              "      <script src=\"/nbextensions/google.colab/files.js\"></script> "
            ],
            "text/plain": [
              "<IPython.core.display.HTML object>"
            ]
          },
          "metadata": {
            "tags": []
          }
        },
        {
          "output_type": "stream",
          "text": [
            "Saving petrol_consumption.csv to petrol_consumption.csv\n",
            "User uploaded file \"petrol_consumption.csv\" with length 1389 bytes\n"
          ],
          "name": "stdout"
        }
      ]
    },
    {
      "cell_type": "code",
      "metadata": {
        "id": "HO2V_QUff-rl"
      },
      "source": [
        "petrol_cons = pd.read_csv(r'petrol_consumption.csv')"
      ],
      "execution_count": null,
      "outputs": []
    },
    {
      "cell_type": "code",
      "metadata": {
        "id": "4JK4q-sXgAz4",
        "colab": {
          "base_uri": "https://localhost:8080/",
          "height": 202
        },
        "outputId": "3ddd4927-1489-4e36-d3db-32ef8bbcccbd"
      },
      "source": [
        "petrol_cons.head()"
      ],
      "execution_count": null,
      "outputs": [
        {
          "output_type": "execute_result",
          "data": {
            "text/html": [
              "<div>\n",
              "<style scoped>\n",
              "    .dataframe tbody tr th:only-of-type {\n",
              "        vertical-align: middle;\n",
              "    }\n",
              "\n",
              "    .dataframe tbody tr th {\n",
              "        vertical-align: top;\n",
              "    }\n",
              "\n",
              "    .dataframe thead th {\n",
              "        text-align: right;\n",
              "    }\n",
              "</style>\n",
              "<table border=\"1\" class=\"dataframe\">\n",
              "  <thead>\n",
              "    <tr style=\"text-align: right;\">\n",
              "      <th></th>\n",
              "      <th>Petrol_tax</th>\n",
              "      <th>Average_income</th>\n",
              "      <th>Paved_Highways</th>\n",
              "      <th>Population_Driver_licence(%)</th>\n",
              "      <th>Petrol_Consumption</th>\n",
              "    </tr>\n",
              "  </thead>\n",
              "  <tbody>\n",
              "    <tr>\n",
              "      <th>0</th>\n",
              "      <td>9.0</td>\n",
              "      <td>3571</td>\n",
              "      <td>1976</td>\n",
              "      <td>0.525</td>\n",
              "      <td>541</td>\n",
              "    </tr>\n",
              "    <tr>\n",
              "      <th>1</th>\n",
              "      <td>9.0</td>\n",
              "      <td>4092</td>\n",
              "      <td>1250</td>\n",
              "      <td>0.572</td>\n",
              "      <td>524</td>\n",
              "    </tr>\n",
              "    <tr>\n",
              "      <th>2</th>\n",
              "      <td>9.0</td>\n",
              "      <td>3865</td>\n",
              "      <td>1586</td>\n",
              "      <td>0.580</td>\n",
              "      <td>561</td>\n",
              "    </tr>\n",
              "    <tr>\n",
              "      <th>3</th>\n",
              "      <td>7.5</td>\n",
              "      <td>4870</td>\n",
              "      <td>2351</td>\n",
              "      <td>0.529</td>\n",
              "      <td>414</td>\n",
              "    </tr>\n",
              "    <tr>\n",
              "      <th>4</th>\n",
              "      <td>8.0</td>\n",
              "      <td>4399</td>\n",
              "      <td>431</td>\n",
              "      <td>0.544</td>\n",
              "      <td>410</td>\n",
              "    </tr>\n",
              "  </tbody>\n",
              "</table>\n",
              "</div>"
            ],
            "text/plain": [
              "   Petrol_tax  Average_income  ...  Population_Driver_licence(%)  Petrol_Consumption\n",
              "0         9.0            3571  ...                         0.525                 541\n",
              "1         9.0            4092  ...                         0.572                 524\n",
              "2         9.0            3865  ...                         0.580                 561\n",
              "3         7.5            4870  ...                         0.529                 414\n",
              "4         8.0            4399  ...                         0.544                 410\n",
              "\n",
              "[5 rows x 5 columns]"
            ]
          },
          "metadata": {
            "tags": []
          },
          "execution_count": 9
        }
      ]
    },
    {
      "cell_type": "markdown",
      "metadata": {
        "id": "_oQ1-6r0gINl"
      },
      "source": [
        "One can see that there are five columns in the dataset. The regression model will be trained on the first four columns, i.e. Petrol_tax, Average_income, Paved_Highways, & Population_Driver_License. The value for the last column i.e. Petrol_Consumption will be predicted (Y). "
      ]
    },
    {
      "cell_type": "code",
      "metadata": {
        "id": "rVS79Sh7gKDm"
      },
      "source": [
        "X = petrol_cons.iloc[:, 0:4].values\n",
        "y = petrol_cons.iloc[:, 4].values\n",
        "\n",
        "from sklearn.model_selection import train_test_split\n",
        "\n",
        "X_train, X_test, y_train, y_test = train_test_split(X, y, test_size=0.2, random_state=0)\n",
        "\n",
        "from sklearn.preprocessing import StandardScaler\n",
        "\n",
        "sc = StandardScaler()\n",
        "X_train = sc.fit_transform(X_train)\n",
        "X_test = sc.transform(X_test)"
      ],
      "execution_count": null,
      "outputs": []
    },
    {
      "cell_type": "code",
      "metadata": {
        "id": "Lc5emwPYvQ-i",
        "colab": {
          "base_uri": "https://localhost:8080/",
          "height": 1000
        },
        "outputId": "891a4ed9-10dc-4776-c7ac-af44cd61eb6f"
      },
      "source": [
        "X_train"
      ],
      "execution_count": null,
      "outputs": [
        {
          "output_type": "execute_result",
          "data": {
            "text/plain": [
              "array([[-1.32525691e-01,  1.50577399e+00,  2.25854636e+00,\n",
              "        -9.15791057e-01],\n",
              "       [-6.28192647e-01, -1.83367022e+00,  2.12333843e-01,\n",
              "        -1.12852703e+00],\n",
              "       [-1.32525691e-01, -1.78897047e+00, -4.54194551e-01,\n",
              "        -5.25775100e-01],\n",
              "       [-1.32525691e-01, -8.78212954e-01,  8.77245103e-01,\n",
              "         4.15208375e-02],\n",
              "       [-6.28192647e-01,  1.27482526e+00,  1.07480487e+00,\n",
              "         2.89712810e-01],\n",
              "       [ 1.35447518e+00, -8.42825648e-01, -1.13743332e+00,\n",
              "         5.92488356e-02],\n",
              "       [-6.28192647e-01, -4.00925436e-02, -4.64436395e-01,\n",
              "         8.21552752e-01],\n",
              "       [-6.28192647e-01,  7.42153173e-01,  2.93282707e-02,\n",
              "         2.61208055e+00],\n",
              "       [-6.28192647e-01,  8.82232011e-04,  1.22196399e+00,\n",
              "         1.65616824e-01],\n",
              "       [ 3.63141265e-01, -2.41241442e-01,  4.54996025e-02,\n",
              "        -2.42127131e-01],\n",
              "       [ 1.35447518e+00,  1.07926383e+00, -9.04835665e-01,\n",
              "        -1.16398303e+00],\n",
              "       [-6.28192647e-01, -2.07716626e-01,  7.28199328e-01,\n",
              "        -8.25751488e-02],\n",
              "       [-6.28192647e-01, -1.23208602e+00, -4.90849570e-01,\n",
              "        -2.42127131e-01],\n",
              "       [-6.28192647e-01,  5.13066928e-01,  5.46541367e-01,\n",
              "         1.53067267e+00],\n",
              "       [-6.28192647e-01, -3.26425844e-02, -5.85182339e-01,\n",
              "         4.66992791e-01],\n",
              "       [ 3.63141265e-01,  2.41143416e-01,  7.46796360e-01,\n",
              "        -8.44879065e-01],\n",
              "       [-6.28192647e-01, -2.05854136e-01,  2.08560532e-01,\n",
              "        -5.61231096e-01],\n",
              "       [ 1.35447518e+00, -1.11102418e+00, -2.85743178e-01,\n",
              "        -5.78959094e-01],\n",
              "       [ 2.34580909e+00,  1.90807179e+00, -1.20562244e+00,\n",
              "        -1.00303147e-01],\n",
              "       [-6.28192647e-01, -1.11661165e+00, -2.91403144e-01,\n",
              "        -6.49871086e-01],\n",
              "       [-1.04455289e+00, -9.60162506e-01,  5.46541367e-01,\n",
              "         9.27920740e-01],\n",
              "       [-6.28192647e-01,  2.69570892e-02,  6.34136081e-01,\n",
              "         5.55632781e-01],\n",
              "       [ 8.58808221e-01, -1.27119830e+00, -6.82479852e-01,\n",
              "         1.53067267e+00],\n",
              "       [ 1.35447518e+00, -4.20040463e-01, -1.22799278e+00,\n",
              "        -8.25751488e-02],\n",
              "       [-6.28192647e-01,  9.30264643e-01,  3.02893301e-01,\n",
              "        -4.71191527e-02],\n",
              "       [-6.28192647e-01, -1.06632442e+00, -8.61173069e-01,\n",
              "        -1.21716702e+00],\n",
              "       [ 8.58808221e-01,  4.77679621e-01, -8.59016891e-01,\n",
              "        -4.54863108e-01],\n",
              "       [ 3.63141265e-01,  1.86523452e+00,  1.63379391e+00,\n",
              "        -2.22766291e+00],\n",
              "       [ 1.35447518e+00, -1.10867156e-01, -3.01914510e-01,\n",
              "        -1.05761504e+00],\n",
              "       [-2.61086047e+00, -5.07577484e-01,  3.22774818e+00,\n",
              "        -1.88943137e-01],\n",
              "       [ 3.63141265e-01,  1.23943795e+00, -1.40264316e+00,\n",
              "         4.49264793e-01],\n",
              "       [ 8.58808221e-01,  4.37194975e-02,  5.49328794e-02,\n",
              "         1.77886465e+00],\n",
              "       [-6.28192647e-01,  3.62205254e-01,  7.27929806e-01,\n",
              "        -4.37135110e-01],\n",
              "       [-6.28192647e-01,  5.11694567e-02, -5.12411346e-01,\n",
              "         1.69022466e+00],\n",
              "       [ 1.35447518e+00,  2.95155621e-01, -5.02439024e-01,\n",
              "        -1.00303147e-01],\n",
              "       [-1.32525691e-01,  1.02897660e+00, -9.31248840e-01,\n",
              "        -8.44879065e-01],\n",
              "       [ 1.35447518e+00, -1.39039765e+00, -1.03231966e+00,\n",
              "        -9.15791057e-01],\n",
              "       [-1.61952656e+00,  1.67153558e+00, -9.44455428e-01,\n",
              "         1.69022466e+00]])"
            ]
          },
          "metadata": {
            "tags": []
          },
          "execution_count": 11
        }
      ]
    },
    {
      "cell_type": "code",
      "metadata": {
        "id": "onCzENoRgObK"
      },
      "source": [
        "input_layer = Input(shape=(X.shape[1],))\n",
        "dense_layer_1 = Dense(100, activation='relu')(input_layer)\n",
        "dense_layer_2 = Dense(50, activation='relu')(dense_layer_1)\n",
        "dense_layer_3 = Dense(25, activation='relu')(dense_layer_2)\n",
        "output = Dense(1)(dense_layer_3)\n",
        "\n",
        "model = Model(inputs=input_layer, outputs=output)\n",
        "model.compile(loss=\"mean_squared_error\" , optimizer=\"adam\", metrics=[\"mean_squared_error\"])"
      ],
      "execution_count": null,
      "outputs": []
    },
    {
      "cell_type": "code",
      "metadata": {
        "id": "IKqfasUEgVES",
        "colab": {
          "base_uri": "https://localhost:8080/",
          "height": 1000
        },
        "outputId": "dadf8ff0-139b-4544-f0c5-0c2b44db4728"
      },
      "source": [
        "history = model.fit(X_train, y_train, batch_size=2, epochs=100, verbose=1, validation_split=0.2)"
      ],
      "execution_count": null,
      "outputs": [
        {
          "output_type": "stream",
          "text": [
            "Epoch 1/100\n",
            "15/15 [==============================] - 0s 7ms/step - loss: 341654.2188 - mean_squared_error: 341654.2188 - val_loss: 402134.3125 - val_mean_squared_error: 402134.3125\n",
            "Epoch 2/100\n",
            "15/15 [==============================] - 0s 3ms/step - loss: 340953.6562 - mean_squared_error: 340953.6562 - val_loss: 401192.8125 - val_mean_squared_error: 401192.8125\n",
            "Epoch 3/100\n",
            "15/15 [==============================] - 0s 3ms/step - loss: 339714.7188 - mean_squared_error: 339714.7188 - val_loss: 399341.0000 - val_mean_squared_error: 399341.0000\n",
            "Epoch 4/100\n",
            "15/15 [==============================] - 0s 3ms/step - loss: 337223.9062 - mean_squared_error: 337223.9062 - val_loss: 395573.9688 - val_mean_squared_error: 395573.9688\n",
            "Epoch 5/100\n",
            "15/15 [==============================] - 0s 4ms/step - loss: 332032.7812 - mean_squared_error: 332032.7812 - val_loss: 388619.7188 - val_mean_squared_error: 388619.7188\n",
            "Epoch 6/100\n",
            "15/15 [==============================] - 0s 3ms/step - loss: 322787.1875 - mean_squared_error: 322787.1875 - val_loss: 376442.5312 - val_mean_squared_error: 376442.5312\n",
            "Epoch 7/100\n",
            "15/15 [==============================] - 0s 3ms/step - loss: 306022.6562 - mean_squared_error: 306022.6562 - val_loss: 355930.9375 - val_mean_squared_error: 355930.9375\n",
            "Epoch 8/100\n",
            "15/15 [==============================] - 0s 4ms/step - loss: 278410.4688 - mean_squared_error: 278410.4688 - val_loss: 325501.3438 - val_mean_squared_error: 325501.3438\n",
            "Epoch 9/100\n",
            "15/15 [==============================] - 0s 4ms/step - loss: 237902.8281 - mean_squared_error: 237902.8281 - val_loss: 280660.5000 - val_mean_squared_error: 280660.5000\n",
            "Epoch 10/100\n",
            "15/15 [==============================] - 0s 3ms/step - loss: 185286.0156 - mean_squared_error: 185286.0156 - val_loss: 224679.8750 - val_mean_squared_error: 224679.8750\n",
            "Epoch 11/100\n",
            "15/15 [==============================] - 0s 3ms/step - loss: 126843.8672 - mean_squared_error: 126843.8672 - val_loss: 161228.8438 - val_mean_squared_error: 161228.8438\n",
            "Epoch 12/100\n",
            "15/15 [==============================] - 0s 4ms/step - loss: 70999.1797 - mean_squared_error: 70999.1797 - val_loss: 107838.9766 - val_mean_squared_error: 107838.9766\n",
            "Epoch 13/100\n",
            "15/15 [==============================] - 0s 3ms/step - loss: 39947.1016 - mean_squared_error: 39947.1016 - val_loss: 65069.8359 - val_mean_squared_error: 65069.8359\n",
            "Epoch 14/100\n",
            "15/15 [==============================] - 0s 3ms/step - loss: 24505.4902 - mean_squared_error: 24505.4902 - val_loss: 44574.4922 - val_mean_squared_error: 44574.4922\n",
            "Epoch 15/100\n",
            "15/15 [==============================] - 0s 4ms/step - loss: 19304.9863 - mean_squared_error: 19304.9863 - val_loss: 32956.7734 - val_mean_squared_error: 32956.7734\n",
            "Epoch 16/100\n",
            "15/15 [==============================] - 0s 3ms/step - loss: 16267.1758 - mean_squared_error: 16267.1758 - val_loss: 29658.8535 - val_mean_squared_error: 29658.8535\n",
            "Epoch 17/100\n",
            "15/15 [==============================] - 0s 3ms/step - loss: 13848.8857 - mean_squared_error: 13848.8857 - val_loss: 24454.3867 - val_mean_squared_error: 24454.3867\n",
            "Epoch 18/100\n",
            "15/15 [==============================] - 0s 4ms/step - loss: 12787.1162 - mean_squared_error: 12787.1162 - val_loss: 21123.3926 - val_mean_squared_error: 21123.3926\n",
            "Epoch 19/100\n",
            "15/15 [==============================] - 0s 4ms/step - loss: 10853.9570 - mean_squared_error: 10853.9570 - val_loss: 18302.7285 - val_mean_squared_error: 18302.7285\n",
            "Epoch 20/100\n",
            "15/15 [==============================] - 0s 3ms/step - loss: 10041.5977 - mean_squared_error: 10041.5977 - val_loss: 16814.1816 - val_mean_squared_error: 16814.1816\n",
            "Epoch 21/100\n",
            "15/15 [==============================] - 0s 3ms/step - loss: 9142.7383 - mean_squared_error: 9142.7383 - val_loss: 14830.8262 - val_mean_squared_error: 14830.8262\n",
            "Epoch 22/100\n",
            "15/15 [==============================] - 0s 3ms/step - loss: 8971.7676 - mean_squared_error: 8971.7676 - val_loss: 14197.2324 - val_mean_squared_error: 14197.2324\n",
            "Epoch 23/100\n",
            "15/15 [==============================] - 0s 3ms/step - loss: 8068.9263 - mean_squared_error: 8068.9263 - val_loss: 12909.2207 - val_mean_squared_error: 12909.2207\n",
            "Epoch 24/100\n",
            "15/15 [==============================] - 0s 3ms/step - loss: 7681.1304 - mean_squared_error: 7681.1304 - val_loss: 12212.9521 - val_mean_squared_error: 12212.9521\n",
            "Epoch 25/100\n",
            "15/15 [==============================] - 0s 4ms/step - loss: 7306.7251 - mean_squared_error: 7306.7251 - val_loss: 11858.1270 - val_mean_squared_error: 11858.1270\n",
            "Epoch 26/100\n",
            "15/15 [==============================] - 0s 4ms/step - loss: 6982.0908 - mean_squared_error: 6982.0908 - val_loss: 11579.9277 - val_mean_squared_error: 11579.9277\n",
            "Epoch 27/100\n",
            "15/15 [==============================] - 0s 3ms/step - loss: 6611.8247 - mean_squared_error: 6611.8247 - val_loss: 10908.1289 - val_mean_squared_error: 10908.1289\n",
            "Epoch 28/100\n",
            "15/15 [==============================] - 0s 3ms/step - loss: 6278.2915 - mean_squared_error: 6278.2915 - val_loss: 10939.0889 - val_mean_squared_error: 10939.0889\n",
            "Epoch 29/100\n",
            "15/15 [==============================] - 0s 4ms/step - loss: 6080.4731 - mean_squared_error: 6080.4731 - val_loss: 10653.4014 - val_mean_squared_error: 10653.4014\n",
            "Epoch 30/100\n",
            "15/15 [==============================] - 0s 3ms/step - loss: 5753.2158 - mean_squared_error: 5753.2158 - val_loss: 10228.1699 - val_mean_squared_error: 10228.1699\n",
            "Epoch 31/100\n",
            "15/15 [==============================] - 0s 3ms/step - loss: 5525.2993 - mean_squared_error: 5525.2993 - val_loss: 10296.9473 - val_mean_squared_error: 10296.9473\n",
            "Epoch 32/100\n",
            "15/15 [==============================] - 0s 4ms/step - loss: 5369.3530 - mean_squared_error: 5369.3530 - val_loss: 10279.3535 - val_mean_squared_error: 10279.3535\n",
            "Epoch 33/100\n",
            "15/15 [==============================] - 0s 4ms/step - loss: 5163.9751 - mean_squared_error: 5163.9751 - val_loss: 9658.2490 - val_mean_squared_error: 9658.2490\n",
            "Epoch 34/100\n",
            "15/15 [==============================] - 0s 3ms/step - loss: 4860.4155 - mean_squared_error: 4860.4155 - val_loss: 9888.4629 - val_mean_squared_error: 9888.4629\n",
            "Epoch 35/100\n",
            "15/15 [==============================] - 0s 3ms/step - loss: 4802.7803 - mean_squared_error: 4802.7803 - val_loss: 9823.1182 - val_mean_squared_error: 9823.1182\n",
            "Epoch 36/100\n",
            "15/15 [==============================] - 0s 3ms/step - loss: 4516.1460 - mean_squared_error: 4516.1460 - val_loss: 9587.4131 - val_mean_squared_error: 9587.4131\n",
            "Epoch 37/100\n",
            "15/15 [==============================] - 0s 3ms/step - loss: 4567.7783 - mean_squared_error: 4567.7783 - val_loss: 9480.9121 - val_mean_squared_error: 9480.9121\n",
            "Epoch 38/100\n",
            "15/15 [==============================] - 0s 3ms/step - loss: 4163.5454 - mean_squared_error: 4163.5454 - val_loss: 9770.2793 - val_mean_squared_error: 9770.2793\n",
            "Epoch 39/100\n",
            "15/15 [==============================] - 0s 4ms/step - loss: 4072.9531 - mean_squared_error: 4072.9531 - val_loss: 9814.0371 - val_mean_squared_error: 9814.0371\n",
            "Epoch 40/100\n",
            "15/15 [==============================] - 0s 3ms/step - loss: 3893.2434 - mean_squared_error: 3893.2434 - val_loss: 9470.3105 - val_mean_squared_error: 9470.3105\n",
            "Epoch 41/100\n",
            "15/15 [==============================] - 0s 3ms/step - loss: 3872.1162 - mean_squared_error: 3872.1162 - val_loss: 9473.3301 - val_mean_squared_error: 9473.3301\n",
            "Epoch 42/100\n",
            "15/15 [==============================] - 0s 4ms/step - loss: 3677.7556 - mean_squared_error: 3677.7556 - val_loss: 9081.5811 - val_mean_squared_error: 9081.5811\n",
            "Epoch 43/100\n",
            "15/15 [==============================] - 0s 4ms/step - loss: 3568.1611 - mean_squared_error: 3568.1611 - val_loss: 9211.9502 - val_mean_squared_error: 9211.9502\n",
            "Epoch 44/100\n",
            "15/15 [==============================] - 0s 4ms/step - loss: 3509.3513 - mean_squared_error: 3509.3513 - val_loss: 9319.1426 - val_mean_squared_error: 9319.1426\n",
            "Epoch 45/100\n",
            "15/15 [==============================] - 0s 3ms/step - loss: 3627.2185 - mean_squared_error: 3627.2185 - val_loss: 9996.1582 - val_mean_squared_error: 9996.1582\n",
            "Epoch 46/100\n",
            "15/15 [==============================] - 0s 3ms/step - loss: 3283.6194 - mean_squared_error: 3283.6194 - val_loss: 9434.5684 - val_mean_squared_error: 9434.5684\n",
            "Epoch 47/100\n",
            "15/15 [==============================] - 0s 3ms/step - loss: 3253.6931 - mean_squared_error: 3253.6931 - val_loss: 9187.8750 - val_mean_squared_error: 9187.8750\n",
            "Epoch 48/100\n",
            "15/15 [==============================] - 0s 3ms/step - loss: 3132.4858 - mean_squared_error: 3132.4858 - val_loss: 9353.2363 - val_mean_squared_error: 9353.2363\n",
            "Epoch 49/100\n",
            "15/15 [==============================] - 0s 4ms/step - loss: 3015.2065 - mean_squared_error: 3015.2065 - val_loss: 9298.2832 - val_mean_squared_error: 9298.2832\n",
            "Epoch 50/100\n",
            "15/15 [==============================] - 0s 4ms/step - loss: 2963.6177 - mean_squared_error: 2963.6177 - val_loss: 9387.2871 - val_mean_squared_error: 9387.2871\n",
            "Epoch 51/100\n",
            "15/15 [==============================] - 0s 3ms/step - loss: 2916.2021 - mean_squared_error: 2916.2021 - val_loss: 9479.9375 - val_mean_squared_error: 9479.9375\n",
            "Epoch 52/100\n",
            "15/15 [==============================] - 0s 3ms/step - loss: 2896.7163 - mean_squared_error: 2896.7163 - val_loss: 9264.6406 - val_mean_squared_error: 9264.6406\n",
            "Epoch 53/100\n",
            "15/15 [==============================] - 0s 3ms/step - loss: 2815.6206 - mean_squared_error: 2815.6206 - val_loss: 9473.4316 - val_mean_squared_error: 9473.4316\n",
            "Epoch 54/100\n",
            "15/15 [==============================] - 0s 4ms/step - loss: 2741.6975 - mean_squared_error: 2741.6975 - val_loss: 9390.3926 - val_mean_squared_error: 9390.3926\n",
            "Epoch 55/100\n",
            "15/15 [==============================] - 0s 4ms/step - loss: 2693.0923 - mean_squared_error: 2693.0923 - val_loss: 9413.1074 - val_mean_squared_error: 9413.1074\n",
            "Epoch 56/100\n",
            "15/15 [==============================] - 0s 3ms/step - loss: 2614.1787 - mean_squared_error: 2614.1787 - val_loss: 9248.9443 - val_mean_squared_error: 9248.9443\n",
            "Epoch 57/100\n",
            "15/15 [==============================] - 0s 3ms/step - loss: 2670.6492 - mean_squared_error: 2670.6492 - val_loss: 9196.5830 - val_mean_squared_error: 9196.5830\n",
            "Epoch 58/100\n",
            "15/15 [==============================] - 0s 3ms/step - loss: 2666.3823 - mean_squared_error: 2666.3823 - val_loss: 9215.5352 - val_mean_squared_error: 9215.5352\n",
            "Epoch 59/100\n",
            "15/15 [==============================] - 0s 5ms/step - loss: 2504.6938 - mean_squared_error: 2504.6938 - val_loss: 9285.6562 - val_mean_squared_error: 9285.6562\n",
            "Epoch 60/100\n",
            "15/15 [==============================] - 0s 4ms/step - loss: 2467.5515 - mean_squared_error: 2467.5515 - val_loss: 9466.6465 - val_mean_squared_error: 9466.6465\n",
            "Epoch 61/100\n",
            "15/15 [==============================] - 0s 4ms/step - loss: 2445.9753 - mean_squared_error: 2445.9753 - val_loss: 9324.6436 - val_mean_squared_error: 9324.6436\n",
            "Epoch 62/100\n",
            "15/15 [==============================] - 0s 3ms/step - loss: 2446.7087 - mean_squared_error: 2446.7087 - val_loss: 9477.7412 - val_mean_squared_error: 9477.7412\n",
            "Epoch 63/100\n",
            "15/15 [==============================] - 0s 3ms/step - loss: 2364.4397 - mean_squared_error: 2364.4397 - val_loss: 9377.9473 - val_mean_squared_error: 9377.9473\n",
            "Epoch 64/100\n",
            "15/15 [==============================] - 0s 3ms/step - loss: 2335.5054 - mean_squared_error: 2335.5054 - val_loss: 9229.2363 - val_mean_squared_error: 9229.2363\n",
            "Epoch 65/100\n",
            "15/15 [==============================] - 0s 4ms/step - loss: 2316.0356 - mean_squared_error: 2316.0356 - val_loss: 9443.0430 - val_mean_squared_error: 9443.0430\n",
            "Epoch 66/100\n",
            "15/15 [==============================] - 0s 3ms/step - loss: 2317.7686 - mean_squared_error: 2317.7686 - val_loss: 9581.9004 - val_mean_squared_error: 9581.9004\n",
            "Epoch 67/100\n",
            "15/15 [==============================] - 0s 4ms/step - loss: 2425.9641 - mean_squared_error: 2425.9641 - val_loss: 9252.3262 - val_mean_squared_error: 9252.3262\n",
            "Epoch 68/100\n",
            "15/15 [==============================] - 0s 3ms/step - loss: 2203.5493 - mean_squared_error: 2203.5493 - val_loss: 9337.3262 - val_mean_squared_error: 9337.3262\n",
            "Epoch 69/100\n",
            "15/15 [==============================] - 0s 4ms/step - loss: 2289.5737 - mean_squared_error: 2289.5737 - val_loss: 9558.3340 - val_mean_squared_error: 9558.3340\n",
            "Epoch 70/100\n",
            "15/15 [==============================] - 0s 3ms/step - loss: 2140.1062 - mean_squared_error: 2140.1062 - val_loss: 9450.7168 - val_mean_squared_error: 9450.7168\n",
            "Epoch 71/100\n",
            "15/15 [==============================] - 0s 3ms/step - loss: 2099.0686 - mean_squared_error: 2099.0686 - val_loss: 9403.0586 - val_mean_squared_error: 9403.0586\n",
            "Epoch 72/100\n",
            "15/15 [==============================] - 0s 3ms/step - loss: 2108.4976 - mean_squared_error: 2108.4976 - val_loss: 9447.8076 - val_mean_squared_error: 9447.8076\n",
            "Epoch 73/100\n",
            "15/15 [==============================] - 0s 3ms/step - loss: 2032.9594 - mean_squared_error: 2032.9594 - val_loss: 9399.3916 - val_mean_squared_error: 9399.3916\n",
            "Epoch 74/100\n",
            "15/15 [==============================] - 0s 3ms/step - loss: 2089.1257 - mean_squared_error: 2089.1257 - val_loss: 9400.8252 - val_mean_squared_error: 9400.8252\n",
            "Epoch 75/100\n",
            "15/15 [==============================] - 0s 3ms/step - loss: 2030.2469 - mean_squared_error: 2030.2469 - val_loss: 9399.1396 - val_mean_squared_error: 9399.1396\n",
            "Epoch 76/100\n",
            "15/15 [==============================] - 0s 3ms/step - loss: 1975.5502 - mean_squared_error: 1975.5502 - val_loss: 9496.7334 - val_mean_squared_error: 9496.7334\n",
            "Epoch 77/100\n",
            "15/15 [==============================] - 0s 3ms/step - loss: 2014.5706 - mean_squared_error: 2014.5706 - val_loss: 9411.7012 - val_mean_squared_error: 9411.7012\n",
            "Epoch 78/100\n",
            "15/15 [==============================] - 0s 3ms/step - loss: 1948.6544 - mean_squared_error: 1948.6544 - val_loss: 9730.3213 - val_mean_squared_error: 9730.3213\n",
            "Epoch 79/100\n",
            "15/15 [==============================] - 0s 4ms/step - loss: 1937.6560 - mean_squared_error: 1937.6560 - val_loss: 9462.7871 - val_mean_squared_error: 9462.7871\n",
            "Epoch 80/100\n",
            "15/15 [==============================] - 0s 3ms/step - loss: 1902.3507 - mean_squared_error: 1902.3507 - val_loss: 9337.1465 - val_mean_squared_error: 9337.1465\n",
            "Epoch 81/100\n",
            "15/15 [==============================] - 0s 4ms/step - loss: 1882.4501 - mean_squared_error: 1882.4501 - val_loss: 9560.5898 - val_mean_squared_error: 9560.5898\n",
            "Epoch 82/100\n",
            "15/15 [==============================] - 0s 3ms/step - loss: 2020.7141 - mean_squared_error: 2020.7141 - val_loss: 9802.2471 - val_mean_squared_error: 9802.2471\n",
            "Epoch 83/100\n",
            "15/15 [==============================] - 0s 3ms/step - loss: 2229.2004 - mean_squared_error: 2229.2004 - val_loss: 9405.4209 - val_mean_squared_error: 9405.4209\n",
            "Epoch 84/100\n",
            "15/15 [==============================] - 0s 3ms/step - loss: 1772.7897 - mean_squared_error: 1772.7897 - val_loss: 9922.6699 - val_mean_squared_error: 9922.6699\n",
            "Epoch 85/100\n",
            "15/15 [==============================] - 0s 4ms/step - loss: 1825.5554 - mean_squared_error: 1825.5554 - val_loss: 10002.7490 - val_mean_squared_error: 10002.7490\n",
            "Epoch 86/100\n",
            "15/15 [==============================] - 0s 3ms/step - loss: 1812.8757 - mean_squared_error: 1812.8757 - val_loss: 9805.0225 - val_mean_squared_error: 9805.0225\n",
            "Epoch 87/100\n",
            "15/15 [==============================] - 0s 3ms/step - loss: 1806.6417 - mean_squared_error: 1806.6417 - val_loss: 9479.0400 - val_mean_squared_error: 9479.0400\n",
            "Epoch 88/100\n",
            "15/15 [==============================] - 0s 3ms/step - loss: 1866.8109 - mean_squared_error: 1866.8109 - val_loss: 9550.2148 - val_mean_squared_error: 9550.2148\n",
            "Epoch 89/100\n",
            "15/15 [==============================] - 0s 4ms/step - loss: 1743.9336 - mean_squared_error: 1743.9336 - val_loss: 9559.3193 - val_mean_squared_error: 9559.3193\n",
            "Epoch 90/100\n",
            "15/15 [==============================] - 0s 3ms/step - loss: 1748.8242 - mean_squared_error: 1748.8242 - val_loss: 9609.9844 - val_mean_squared_error: 9609.9844\n",
            "Epoch 91/100\n",
            "15/15 [==============================] - 0s 3ms/step - loss: 1733.8500 - mean_squared_error: 1733.8500 - val_loss: 9744.7656 - val_mean_squared_error: 9744.7656\n",
            "Epoch 92/100\n",
            "15/15 [==============================] - 0s 4ms/step - loss: 1751.0704 - mean_squared_error: 1751.0704 - val_loss: 9650.4854 - val_mean_squared_error: 9650.4854\n",
            "Epoch 93/100\n",
            "15/15 [==============================] - 0s 3ms/step - loss: 1757.8577 - mean_squared_error: 1757.8577 - val_loss: 9733.7295 - val_mean_squared_error: 9733.7295\n",
            "Epoch 94/100\n",
            "15/15 [==============================] - 0s 4ms/step - loss: 1726.3228 - mean_squared_error: 1726.3228 - val_loss: 9842.4932 - val_mean_squared_error: 9842.4932\n",
            "Epoch 95/100\n",
            "15/15 [==============================] - 0s 3ms/step - loss: 1706.9708 - mean_squared_error: 1706.9708 - val_loss: 9738.5391 - val_mean_squared_error: 9738.5391\n",
            "Epoch 96/100\n",
            "15/15 [==============================] - 0s 3ms/step - loss: 1653.2184 - mean_squared_error: 1653.2184 - val_loss: 9872.6250 - val_mean_squared_error: 9872.6250\n",
            "Epoch 97/100\n",
            "15/15 [==============================] - 0s 4ms/step - loss: 1646.1744 - mean_squared_error: 1646.1744 - val_loss: 9665.5234 - val_mean_squared_error: 9665.5234\n",
            "Epoch 98/100\n",
            "15/15 [==============================] - 0s 3ms/step - loss: 1641.7458 - mean_squared_error: 1641.7458 - val_loss: 9635.7695 - val_mean_squared_error: 9635.7695\n",
            "Epoch 99/100\n",
            "15/15 [==============================] - 0s 4ms/step - loss: 1672.8440 - mean_squared_error: 1672.8440 - val_loss: 9730.3994 - val_mean_squared_error: 9730.3994\n",
            "Epoch 100/100\n",
            "15/15 [==============================] - 0s 4ms/step - loss: 1637.6459 - mean_squared_error: 1637.6459 - val_loss: 9603.3623 - val_mean_squared_error: 9603.3623\n"
          ],
          "name": "stdout"
        }
      ]
    },
    {
      "cell_type": "code",
      "metadata": {
        "id": "9PE5V3NbgZj9",
        "colab": {
          "base_uri": "https://localhost:8080/",
          "height": 52
        },
        "outputId": "ae37a29f-e3d1-4247-9ac1-2758611d6de0"
      },
      "source": [
        "from sklearn.metrics import mean_squared_error\n",
        "from math import sqrt\n",
        "\n",
        "pred_train = model.predict(X_train)\n",
        "print(np.sqrt(mean_squared_error(y_train,pred_train)))\n",
        "\n",
        "pred = model.predict(X_test)\n",
        "print(np.sqrt(mean_squared_error(y_test,pred)))"
      ],
      "execution_count": null,
      "outputs": [
        {
          "output_type": "stream",
          "text": [
            "57.06085831033609\n",
            "84.91273271195267\n"
          ],
          "name": "stdout"
        }
      ]
    },
    {
      "cell_type": "markdown",
      "metadata": {
        "id": "rbpN4wbtgb-y"
      },
      "source": [
        "## Neural Network for Classification\n",
        "\n",
        "Car Evaluation Database was derived from a simple hierarchical decision model originally developed for the demonstration of DEX, M. Bohanec, V. Rajkovic: Expert system for decision making. Sistemica 1(1), pp. 145-157, 1990.). The model evaluates cars according to the following concept structure:\n",
        "\n",
        "CAR car acceptability\n",
        ". PRICE overall price\n",
        "\n",
        ". . buying buying price\n",
        "\n",
        ". . maint price of the maintenance\n",
        "\n",
        ". TECH technical characteristics\n",
        "\n",
        ". . COMFORT comfort\n",
        "\n",
        ". . . doors number of doors\n",
        "\n",
        ". . . persons capacity in terms of persons to carry\n",
        "\n",
        ". . . lug_boot the size of luggage boot\n",
        "\n",
        ". . safety estimated safety of the car"
      ]
    },
    {
      "cell_type": "code",
      "metadata": {
        "id": "pYZ2iYJjglQ1",
        "colab": {
          "resources": {
            "http://localhost:8080/nbextensions/google.colab/files.js": {
              "data": "Ly8gQ29weXJpZ2h0IDIwMTcgR29vZ2xlIExMQwovLwovLyBMaWNlbnNlZCB1bmRlciB0aGUgQXBhY2hlIExpY2Vuc2UsIFZlcnNpb24gMi4wICh0aGUgIkxpY2Vuc2UiKTsKLy8geW91IG1heSBub3QgdXNlIHRoaXMgZmlsZSBleGNlcHQgaW4gY29tcGxpYW5jZSB3aXRoIHRoZSBMaWNlbnNlLgovLyBZb3UgbWF5IG9idGFpbiBhIGNvcHkgb2YgdGhlIExpY2Vuc2UgYXQKLy8KLy8gICAgICBodHRwOi8vd3d3LmFwYWNoZS5vcmcvbGljZW5zZXMvTElDRU5TRS0yLjAKLy8KLy8gVW5sZXNzIHJlcXVpcmVkIGJ5IGFwcGxpY2FibGUgbGF3IG9yIGFncmVlZCB0byBpbiB3cml0aW5nLCBzb2Z0d2FyZQovLyBkaXN0cmlidXRlZCB1bmRlciB0aGUgTGljZW5zZSBpcyBkaXN0cmlidXRlZCBvbiBhbiAiQVMgSVMiIEJBU0lTLAovLyBXSVRIT1VUIFdBUlJBTlRJRVMgT1IgQ09ORElUSU9OUyBPRiBBTlkgS0lORCwgZWl0aGVyIGV4cHJlc3Mgb3IgaW1wbGllZC4KLy8gU2VlIHRoZSBMaWNlbnNlIGZvciB0aGUgc3BlY2lmaWMgbGFuZ3VhZ2UgZ292ZXJuaW5nIHBlcm1pc3Npb25zIGFuZAovLyBsaW1pdGF0aW9ucyB1bmRlciB0aGUgTGljZW5zZS4KCi8qKgogKiBAZmlsZW92ZXJ2aWV3IEhlbHBlcnMgZm9yIGdvb2dsZS5jb2xhYiBQeXRob24gbW9kdWxlLgogKi8KKGZ1bmN0aW9uKHNjb3BlKSB7CmZ1bmN0aW9uIHNwYW4odGV4dCwgc3R5bGVBdHRyaWJ1dGVzID0ge30pIHsKICBjb25zdCBlbGVtZW50ID0gZG9jdW1lbnQuY3JlYXRlRWxlbWVudCgnc3BhbicpOwogIGVsZW1lbnQudGV4dENvbnRlbnQgPSB0ZXh0OwogIGZvciAoY29uc3Qga2V5IG9mIE9iamVjdC5rZXlzKHN0eWxlQXR0cmlidXRlcykpIHsKICAgIGVsZW1lbnQuc3R5bGVba2V5XSA9IHN0eWxlQXR0cmlidXRlc1trZXldOwogIH0KICByZXR1cm4gZWxlbWVudDsKfQoKLy8gTWF4IG51bWJlciBvZiBieXRlcyB3aGljaCB3aWxsIGJlIHVwbG9hZGVkIGF0IGEgdGltZS4KY29uc3QgTUFYX1BBWUxPQURfU0laRSA9IDEwMCAqIDEwMjQ7Ci8vIE1heCBhbW91bnQgb2YgdGltZSB0byBibG9jayB3YWl0aW5nIGZvciB0aGUgdXNlci4KY29uc3QgRklMRV9DSEFOR0VfVElNRU9VVF9NUyA9IDMwICogMTAwMDsKCmZ1bmN0aW9uIF91cGxvYWRGaWxlcyhpbnB1dElkLCBvdXRwdXRJZCkgewogIGNvbnN0IHN0ZXBzID0gdXBsb2FkRmlsZXNTdGVwKGlucHV0SWQsIG91dHB1dElkKTsKICBjb25zdCBvdXRwdXRFbGVtZW50ID0gZG9jdW1lbnQuZ2V0RWxlbWVudEJ5SWQob3V0cHV0SWQpOwogIC8vIENhY2hlIHN0ZXBzIG9uIHRoZSBvdXRwdXRFbGVtZW50IHRvIG1ha2UgaXQgYXZhaWxhYmxlIGZvciB0aGUgbmV4dCBjYWxsCiAgLy8gdG8gdXBsb2FkRmlsZXNDb250aW51ZSBmcm9tIFB5dGhvbi4KICBvdXRwdXRFbGVtZW50LnN0ZXBzID0gc3RlcHM7CgogIHJldHVybiBfdXBsb2FkRmlsZXNDb250aW51ZShvdXRwdXRJZCk7Cn0KCi8vIFRoaXMgaXMgcm91Z2hseSBhbiBhc3luYyBnZW5lcmF0b3IgKG5vdCBzdXBwb3J0ZWQgaW4gdGhlIGJyb3dzZXIgeWV0KSwKLy8gd2hlcmUgdGhlcmUgYXJlIG11bHRpcGxlIGFzeW5jaHJvbm91cyBzdGVwcyBhbmQgdGhlIFB5dGhvbiBzaWRlIGlzIGdvaW5nCi8vIHRvIHBvbGwgZm9yIGNvbXBsZXRpb24gb2YgZWFjaCBzdGVwLgovLyBUaGlzIHVzZXMgYSBQcm9taXNlIHRvIGJsb2NrIHRoZSBweXRob24gc2lkZSBvbiBjb21wbGV0aW9uIG9mIGVhY2ggc3RlcCwKLy8gdGhlbiBwYXNzZXMgdGhlIHJlc3VsdCBvZiB0aGUgcHJldmlvdXMgc3RlcCBhcyB0aGUgaW5wdXQgdG8gdGhlIG5leHQgc3RlcC4KZnVuY3Rpb24gX3VwbG9hZEZpbGVzQ29udGludWUob3V0cHV0SWQpIHsKICBjb25zdCBvdXRwdXRFbGVtZW50ID0gZG9jdW1lbnQuZ2V0RWxlbWVudEJ5SWQob3V0cHV0SWQpOwogIGNvbnN0IHN0ZXBzID0gb3V0cHV0RWxlbWVudC5zdGVwczsKCiAgY29uc3QgbmV4dCA9IHN0ZXBzLm5leHQob3V0cHV0RWxlbWVudC5sYXN0UHJvbWlzZVZhbHVlKTsKICByZXR1cm4gUHJvbWlzZS5yZXNvbHZlKG5leHQudmFsdWUucHJvbWlzZSkudGhlbigodmFsdWUpID0+IHsKICAgIC8vIENhY2hlIHRoZSBsYXN0IHByb21pc2UgdmFsdWUgdG8gbWFrZSBpdCBhdmFpbGFibGUgdG8gdGhlIG5leHQKICAgIC8vIHN0ZXAgb2YgdGhlIGdlbmVyYXRvci4KICAgIG91dHB1dEVsZW1lbnQubGFzdFByb21pc2VWYWx1ZSA9IHZhbHVlOwogICAgcmV0dXJuIG5leHQudmFsdWUucmVzcG9uc2U7CiAgfSk7Cn0KCi8qKgogKiBHZW5lcmF0b3IgZnVuY3Rpb24gd2hpY2ggaXMgY2FsbGVkIGJldHdlZW4gZWFjaCBhc3luYyBzdGVwIG9mIHRoZSB1cGxvYWQKICogcHJvY2Vzcy4KICogQHBhcmFtIHtzdHJpbmd9IGlucHV0SWQgRWxlbWVudCBJRCBvZiB0aGUgaW5wdXQgZmlsZSBwaWNrZXIgZWxlbWVudC4KICogQHBhcmFtIHtzdHJpbmd9IG91dHB1dElkIEVsZW1lbnQgSUQgb2YgdGhlIG91dHB1dCBkaXNwbGF5LgogKiBAcmV0dXJuIHshSXRlcmFibGU8IU9iamVjdD59IEl0ZXJhYmxlIG9mIG5leHQgc3RlcHMuCiAqLwpmdW5jdGlvbiogdXBsb2FkRmlsZXNTdGVwKGlucHV0SWQsIG91dHB1dElkKSB7CiAgY29uc3QgaW5wdXRFbGVtZW50ID0gZG9jdW1lbnQuZ2V0RWxlbWVudEJ5SWQoaW5wdXRJZCk7CiAgaW5wdXRFbGVtZW50LmRpc2FibGVkID0gZmFsc2U7CgogIGNvbnN0IG91dHB1dEVsZW1lbnQgPSBkb2N1bWVudC5nZXRFbGVtZW50QnlJZChvdXRwdXRJZCk7CiAgb3V0cHV0RWxlbWVudC5pbm5lckhUTUwgPSAnJzsKCiAgY29uc3QgcGlja2VkUHJvbWlzZSA9IG5ldyBQcm9taXNlKChyZXNvbHZlKSA9PiB7CiAgICBpbnB1dEVsZW1lbnQuYWRkRXZlbnRMaXN0ZW5lcignY2hhbmdlJywgKGUpID0+IHsKICAgICAgcmVzb2x2ZShlLnRhcmdldC5maWxlcyk7CiAgICB9KTsKICB9KTsKCiAgY29uc3QgY2FuY2VsID0gZG9jdW1lbnQuY3JlYXRlRWxlbWVudCgnYnV0dG9uJyk7CiAgaW5wdXRFbGVtZW50LnBhcmVudEVsZW1lbnQuYXBwZW5kQ2hpbGQoY2FuY2VsKTsKICBjYW5jZWwudGV4dENvbnRlbnQgPSAnQ2FuY2VsIHVwbG9hZCc7CiAgY29uc3QgY2FuY2VsUHJvbWlzZSA9IG5ldyBQcm9taXNlKChyZXNvbHZlKSA9PiB7CiAgICBjYW5jZWwub25jbGljayA9ICgpID0+IHsKICAgICAgcmVzb2x2ZShudWxsKTsKICAgIH07CiAgfSk7CgogIC8vIENhbmNlbCB1cGxvYWQgaWYgdXNlciBoYXNuJ3QgcGlja2VkIGFueXRoaW5nIGluIHRpbWVvdXQuCiAgY29uc3QgdGltZW91dFByb21pc2UgPSBuZXcgUHJvbWlzZSgocmVzb2x2ZSkgPT4gewogICAgc2V0VGltZW91dCgoKSA9PiB7CiAgICAgIHJlc29sdmUobnVsbCk7CiAgICB9LCBGSUxFX0NIQU5HRV9USU1FT1VUX01TKTsKICB9KTsKCiAgLy8gV2FpdCBmb3IgdGhlIHVzZXIgdG8gcGljayB0aGUgZmlsZXMuCiAgY29uc3QgZmlsZXMgPSB5aWVsZCB7CiAgICBwcm9taXNlOiBQcm9taXNlLnJhY2UoW3BpY2tlZFByb21pc2UsIHRpbWVvdXRQcm9taXNlLCBjYW5jZWxQcm9taXNlXSksCiAgICByZXNwb25zZTogewogICAgICBhY3Rpb246ICdzdGFydGluZycsCiAgICB9CiAgfTsKCiAgaWYgKCFmaWxlcykgewogICAgcmV0dXJuIHsKICAgICAgcmVzcG9uc2U6IHsKICAgICAgICBhY3Rpb246ICdjb21wbGV0ZScsCiAgICAgIH0KICAgIH07CiAgfQoKICBjYW5jZWwucmVtb3ZlKCk7CgogIC8vIERpc2FibGUgdGhlIGlucHV0IGVsZW1lbnQgc2luY2UgZnVydGhlciBwaWNrcyBhcmUgbm90IGFsbG93ZWQuCiAgaW5wdXRFbGVtZW50LmRpc2FibGVkID0gdHJ1ZTsKCiAgZm9yIChjb25zdCBmaWxlIG9mIGZpbGVzKSB7CiAgICBjb25zdCBsaSA9IGRvY3VtZW50LmNyZWF0ZUVsZW1lbnQoJ2xpJyk7CiAgICBsaS5hcHBlbmQoc3BhbihmaWxlLm5hbWUsIHtmb250V2VpZ2h0OiAnYm9sZCd9KSk7CiAgICBsaS5hcHBlbmQoc3BhbigKICAgICAgICBgKCR7ZmlsZS50eXBlIHx8ICduL2EnfSkgLSAke2ZpbGUuc2l6ZX0gYnl0ZXMsIGAgKwogICAgICAgIGBsYXN0IG1vZGlmaWVkOiAkewogICAgICAgICAgICBmaWxlLmxhc3RNb2RpZmllZERhdGUgPyBmaWxlLmxhc3RNb2RpZmllZERhdGUudG9Mb2NhbGVEYXRlU3RyaW5nKCkgOgogICAgICAgICAgICAgICAgICAgICAgICAgICAgICAgICAgICAnbi9hJ30gLSBgKSk7CiAgICBjb25zdCBwZXJjZW50ID0gc3BhbignMCUgZG9uZScpOwogICAgbGkuYXBwZW5kQ2hpbGQocGVyY2VudCk7CgogICAgb3V0cHV0RWxlbWVudC5hcHBlbmRDaGlsZChsaSk7CgogICAgY29uc3QgZmlsZURhdGFQcm9taXNlID0gbmV3IFByb21pc2UoKHJlc29sdmUpID0+IHsKICAgICAgY29uc3QgcmVhZGVyID0gbmV3IEZpbGVSZWFkZXIoKTsKICAgICAgcmVhZGVyLm9ubG9hZCA9IChlKSA9PiB7CiAgICAgICAgcmVzb2x2ZShlLnRhcmdldC5yZXN1bHQpOwogICAgICB9OwogICAgICByZWFkZXIucmVhZEFzQXJyYXlCdWZmZXIoZmlsZSk7CiAgICB9KTsKICAgIC8vIFdhaXQgZm9yIHRoZSBkYXRhIHRvIGJlIHJlYWR5LgogICAgbGV0IGZpbGVEYXRhID0geWllbGQgewogICAgICBwcm9taXNlOiBmaWxlRGF0YVByb21pc2UsCiAgICAgIHJlc3BvbnNlOiB7CiAgICAgICAgYWN0aW9uOiAnY29udGludWUnLAogICAgICB9CiAgICB9OwoKICAgIC8vIFVzZSBhIGNodW5rZWQgc2VuZGluZyB0byBhdm9pZCBtZXNzYWdlIHNpemUgbGltaXRzLiBTZWUgYi82MjExNTY2MC4KICAgIGxldCBwb3NpdGlvbiA9IDA7CiAgICB3aGlsZSAocG9zaXRpb24gPCBmaWxlRGF0YS5ieXRlTGVuZ3RoKSB7CiAgICAgIGNvbnN0IGxlbmd0aCA9IE1hdGgubWluKGZpbGVEYXRhLmJ5dGVMZW5ndGggLSBwb3NpdGlvbiwgTUFYX1BBWUxPQURfU0laRSk7CiAgICAgIGNvbnN0IGNodW5rID0gbmV3IFVpbnQ4QXJyYXkoZmlsZURhdGEsIHBvc2l0aW9uLCBsZW5ndGgpOwogICAgICBwb3NpdGlvbiArPSBsZW5ndGg7CgogICAgICBjb25zdCBiYXNlNjQgPSBidG9hKFN0cmluZy5mcm9tQ2hhckNvZGUuYXBwbHkobnVsbCwgY2h1bmspKTsKICAgICAgeWllbGQgewogICAgICAgIHJlc3BvbnNlOiB7CiAgICAgICAgICBhY3Rpb246ICdhcHBlbmQnLAogICAgICAgICAgZmlsZTogZmlsZS5uYW1lLAogICAgICAgICAgZGF0YTogYmFzZTY0LAogICAgICAgIH0sCiAgICAgIH07CiAgICAgIHBlcmNlbnQudGV4dENvbnRlbnQgPQogICAgICAgICAgYCR7TWF0aC5yb3VuZCgocG9zaXRpb24gLyBmaWxlRGF0YS5ieXRlTGVuZ3RoKSAqIDEwMCl9JSBkb25lYDsKICAgIH0KICB9CgogIC8vIEFsbCBkb25lLgogIHlpZWxkIHsKICAgIHJlc3BvbnNlOiB7CiAgICAgIGFjdGlvbjogJ2NvbXBsZXRlJywKICAgIH0KICB9Owp9CgpzY29wZS5nb29nbGUgPSBzY29wZS5nb29nbGUgfHwge307CnNjb3BlLmdvb2dsZS5jb2xhYiA9IHNjb3BlLmdvb2dsZS5jb2xhYiB8fCB7fTsKc2NvcGUuZ29vZ2xlLmNvbGFiLl9maWxlcyA9IHsKICBfdXBsb2FkRmlsZXMsCiAgX3VwbG9hZEZpbGVzQ29udGludWUsCn07Cn0pKHNlbGYpOwo=",
              "ok": true,
              "headers": [
                [
                  "content-type",
                  "application/javascript"
                ]
              ],
              "status": 200,
              "status_text": ""
            }
          },
          "base_uri": "https://localhost:8080/",
          "height": 93
        },
        "outputId": "d82553c7-10f1-4c8b-f572-bf432a3e0195"
      },
      "source": [
        "from google.colab import files\n",
        "\n",
        "uploaded = files.upload()\n",
        "\n",
        "for fn in uploaded.keys():\n",
        "  print('User uploaded file \"{name}\" with length {length} bytes'.format(\n",
        "      name=fn, length=len(uploaded[fn])))"
      ],
      "execution_count": null,
      "outputs": [
        {
          "output_type": "display_data",
          "data": {
            "text/html": [
              "\n",
              "     <input type=\"file\" id=\"files-26ed7ff3-3f0d-49d2-8df4-d263e30cec3d\" name=\"files[]\" multiple disabled />\n",
              "     <output id=\"result-26ed7ff3-3f0d-49d2-8df4-d263e30cec3d\">\n",
              "      Upload widget is only available when the cell has been executed in the\n",
              "      current browser session. Please rerun this cell to enable.\n",
              "      </output>\n",
              "      <script src=\"/nbextensions/google.colab/files.js\"></script> "
            ],
            "text/plain": [
              "<IPython.core.display.HTML object>"
            ]
          },
          "metadata": {
            "tags": []
          }
        },
        {
          "output_type": "stream",
          "text": [
            "Saving car_evaluation.csv to car_evaluation.csv\n",
            "User uploaded file \"car_evaluation.csv\" with length 53593 bytes\n"
          ],
          "name": "stdout"
        }
      ]
    },
    {
      "cell_type": "code",
      "metadata": {
        "id": "CL0pQduQgs9d"
      },
      "source": [
        "cols = ['price', 'maint', 'doors', 'persons', 'lug_capacity', 'safety','output']\n",
        "cars = pd.read_csv(r'car_evaluation.csv', names=cols, header=None)"
      ],
      "execution_count": null,
      "outputs": []
    },
    {
      "cell_type": "code",
      "metadata": {
        "id": "OjcFasbfgvw8",
        "colab": {
          "base_uri": "https://localhost:8080/",
          "height": 815
        },
        "outputId": "4e04c9a7-6957-46f5-ee3b-8ada3f061be6"
      },
      "source": [
        "cars.head(25)"
      ],
      "execution_count": null,
      "outputs": [
        {
          "output_type": "execute_result",
          "data": {
            "text/html": [
              "<div>\n",
              "<style scoped>\n",
              "    .dataframe tbody tr th:only-of-type {\n",
              "        vertical-align: middle;\n",
              "    }\n",
              "\n",
              "    .dataframe tbody tr th {\n",
              "        vertical-align: top;\n",
              "    }\n",
              "\n",
              "    .dataframe thead th {\n",
              "        text-align: right;\n",
              "    }\n",
              "</style>\n",
              "<table border=\"1\" class=\"dataframe\">\n",
              "  <thead>\n",
              "    <tr style=\"text-align: right;\">\n",
              "      <th></th>\n",
              "      <th>price</th>\n",
              "      <th>maint</th>\n",
              "      <th>doors</th>\n",
              "      <th>persons</th>\n",
              "      <th>lug_capacity</th>\n",
              "      <th>safety</th>\n",
              "      <th>output</th>\n",
              "    </tr>\n",
              "  </thead>\n",
              "  <tbody>\n",
              "    <tr>\n",
              "      <th>0</th>\n",
              "      <td>vhigh</td>\n",
              "      <td>vhigh</td>\n",
              "      <td>2</td>\n",
              "      <td>2</td>\n",
              "      <td>small</td>\n",
              "      <td>low</td>\n",
              "      <td>unacc</td>\n",
              "    </tr>\n",
              "    <tr>\n",
              "      <th>1</th>\n",
              "      <td>vhigh</td>\n",
              "      <td>vhigh</td>\n",
              "      <td>2</td>\n",
              "      <td>2</td>\n",
              "      <td>small</td>\n",
              "      <td>med</td>\n",
              "      <td>unacc</td>\n",
              "    </tr>\n",
              "    <tr>\n",
              "      <th>2</th>\n",
              "      <td>vhigh</td>\n",
              "      <td>vhigh</td>\n",
              "      <td>2</td>\n",
              "      <td>2</td>\n",
              "      <td>small</td>\n",
              "      <td>high</td>\n",
              "      <td>unacc</td>\n",
              "    </tr>\n",
              "    <tr>\n",
              "      <th>3</th>\n",
              "      <td>vhigh</td>\n",
              "      <td>vhigh</td>\n",
              "      <td>2</td>\n",
              "      <td>2</td>\n",
              "      <td>med</td>\n",
              "      <td>low</td>\n",
              "      <td>unacc</td>\n",
              "    </tr>\n",
              "    <tr>\n",
              "      <th>4</th>\n",
              "      <td>vhigh</td>\n",
              "      <td>vhigh</td>\n",
              "      <td>2</td>\n",
              "      <td>2</td>\n",
              "      <td>med</td>\n",
              "      <td>med</td>\n",
              "      <td>unacc</td>\n",
              "    </tr>\n",
              "    <tr>\n",
              "      <th>5</th>\n",
              "      <td>vhigh</td>\n",
              "      <td>vhigh</td>\n",
              "      <td>2</td>\n",
              "      <td>2</td>\n",
              "      <td>med</td>\n",
              "      <td>high</td>\n",
              "      <td>unacc</td>\n",
              "    </tr>\n",
              "    <tr>\n",
              "      <th>6</th>\n",
              "      <td>vhigh</td>\n",
              "      <td>vhigh</td>\n",
              "      <td>2</td>\n",
              "      <td>2</td>\n",
              "      <td>big</td>\n",
              "      <td>low</td>\n",
              "      <td>unacc</td>\n",
              "    </tr>\n",
              "    <tr>\n",
              "      <th>7</th>\n",
              "      <td>vhigh</td>\n",
              "      <td>vhigh</td>\n",
              "      <td>2</td>\n",
              "      <td>2</td>\n",
              "      <td>big</td>\n",
              "      <td>med</td>\n",
              "      <td>unacc</td>\n",
              "    </tr>\n",
              "    <tr>\n",
              "      <th>8</th>\n",
              "      <td>vhigh</td>\n",
              "      <td>vhigh</td>\n",
              "      <td>2</td>\n",
              "      <td>2</td>\n",
              "      <td>big</td>\n",
              "      <td>high</td>\n",
              "      <td>unacc</td>\n",
              "    </tr>\n",
              "    <tr>\n",
              "      <th>9</th>\n",
              "      <td>vhigh</td>\n",
              "      <td>vhigh</td>\n",
              "      <td>2</td>\n",
              "      <td>4</td>\n",
              "      <td>small</td>\n",
              "      <td>low</td>\n",
              "      <td>unacc</td>\n",
              "    </tr>\n",
              "    <tr>\n",
              "      <th>10</th>\n",
              "      <td>vhigh</td>\n",
              "      <td>vhigh</td>\n",
              "      <td>2</td>\n",
              "      <td>4</td>\n",
              "      <td>small</td>\n",
              "      <td>med</td>\n",
              "      <td>unacc</td>\n",
              "    </tr>\n",
              "    <tr>\n",
              "      <th>11</th>\n",
              "      <td>vhigh</td>\n",
              "      <td>vhigh</td>\n",
              "      <td>2</td>\n",
              "      <td>4</td>\n",
              "      <td>small</td>\n",
              "      <td>high</td>\n",
              "      <td>unacc</td>\n",
              "    </tr>\n",
              "    <tr>\n",
              "      <th>12</th>\n",
              "      <td>vhigh</td>\n",
              "      <td>vhigh</td>\n",
              "      <td>2</td>\n",
              "      <td>4</td>\n",
              "      <td>med</td>\n",
              "      <td>low</td>\n",
              "      <td>unacc</td>\n",
              "    </tr>\n",
              "    <tr>\n",
              "      <th>13</th>\n",
              "      <td>vhigh</td>\n",
              "      <td>vhigh</td>\n",
              "      <td>2</td>\n",
              "      <td>4</td>\n",
              "      <td>med</td>\n",
              "      <td>med</td>\n",
              "      <td>unacc</td>\n",
              "    </tr>\n",
              "    <tr>\n",
              "      <th>14</th>\n",
              "      <td>vhigh</td>\n",
              "      <td>vhigh</td>\n",
              "      <td>2</td>\n",
              "      <td>4</td>\n",
              "      <td>med</td>\n",
              "      <td>high</td>\n",
              "      <td>unacc</td>\n",
              "    </tr>\n",
              "    <tr>\n",
              "      <th>15</th>\n",
              "      <td>vhigh</td>\n",
              "      <td>vhigh</td>\n",
              "      <td>2</td>\n",
              "      <td>4</td>\n",
              "      <td>big</td>\n",
              "      <td>low</td>\n",
              "      <td>unacc</td>\n",
              "    </tr>\n",
              "    <tr>\n",
              "      <th>16</th>\n",
              "      <td>vhigh</td>\n",
              "      <td>vhigh</td>\n",
              "      <td>2</td>\n",
              "      <td>4</td>\n",
              "      <td>big</td>\n",
              "      <td>med</td>\n",
              "      <td>unacc</td>\n",
              "    </tr>\n",
              "    <tr>\n",
              "      <th>17</th>\n",
              "      <td>vhigh</td>\n",
              "      <td>vhigh</td>\n",
              "      <td>2</td>\n",
              "      <td>4</td>\n",
              "      <td>big</td>\n",
              "      <td>high</td>\n",
              "      <td>unacc</td>\n",
              "    </tr>\n",
              "    <tr>\n",
              "      <th>18</th>\n",
              "      <td>vhigh</td>\n",
              "      <td>vhigh</td>\n",
              "      <td>2</td>\n",
              "      <td>more</td>\n",
              "      <td>small</td>\n",
              "      <td>low</td>\n",
              "      <td>unacc</td>\n",
              "    </tr>\n",
              "    <tr>\n",
              "      <th>19</th>\n",
              "      <td>vhigh</td>\n",
              "      <td>vhigh</td>\n",
              "      <td>2</td>\n",
              "      <td>more</td>\n",
              "      <td>small</td>\n",
              "      <td>med</td>\n",
              "      <td>unacc</td>\n",
              "    </tr>\n",
              "    <tr>\n",
              "      <th>20</th>\n",
              "      <td>vhigh</td>\n",
              "      <td>vhigh</td>\n",
              "      <td>2</td>\n",
              "      <td>more</td>\n",
              "      <td>small</td>\n",
              "      <td>high</td>\n",
              "      <td>unacc</td>\n",
              "    </tr>\n",
              "    <tr>\n",
              "      <th>21</th>\n",
              "      <td>vhigh</td>\n",
              "      <td>vhigh</td>\n",
              "      <td>2</td>\n",
              "      <td>more</td>\n",
              "      <td>med</td>\n",
              "      <td>low</td>\n",
              "      <td>unacc</td>\n",
              "    </tr>\n",
              "    <tr>\n",
              "      <th>22</th>\n",
              "      <td>vhigh</td>\n",
              "      <td>vhigh</td>\n",
              "      <td>2</td>\n",
              "      <td>more</td>\n",
              "      <td>med</td>\n",
              "      <td>med</td>\n",
              "      <td>unacc</td>\n",
              "    </tr>\n",
              "    <tr>\n",
              "      <th>23</th>\n",
              "      <td>vhigh</td>\n",
              "      <td>vhigh</td>\n",
              "      <td>2</td>\n",
              "      <td>more</td>\n",
              "      <td>med</td>\n",
              "      <td>high</td>\n",
              "      <td>unacc</td>\n",
              "    </tr>\n",
              "    <tr>\n",
              "      <th>24</th>\n",
              "      <td>vhigh</td>\n",
              "      <td>vhigh</td>\n",
              "      <td>2</td>\n",
              "      <td>more</td>\n",
              "      <td>big</td>\n",
              "      <td>low</td>\n",
              "      <td>unacc</td>\n",
              "    </tr>\n",
              "  </tbody>\n",
              "</table>\n",
              "</div>"
            ],
            "text/plain": [
              "    price  maint doors persons lug_capacity safety output\n",
              "0   vhigh  vhigh     2       2        small    low  unacc\n",
              "1   vhigh  vhigh     2       2        small    med  unacc\n",
              "2   vhigh  vhigh     2       2        small   high  unacc\n",
              "3   vhigh  vhigh     2       2          med    low  unacc\n",
              "4   vhigh  vhigh     2       2          med    med  unacc\n",
              "5   vhigh  vhigh     2       2          med   high  unacc\n",
              "6   vhigh  vhigh     2       2          big    low  unacc\n",
              "7   vhigh  vhigh     2       2          big    med  unacc\n",
              "8   vhigh  vhigh     2       2          big   high  unacc\n",
              "9   vhigh  vhigh     2       4        small    low  unacc\n",
              "10  vhigh  vhigh     2       4        small    med  unacc\n",
              "11  vhigh  vhigh     2       4        small   high  unacc\n",
              "12  vhigh  vhigh     2       4          med    low  unacc\n",
              "13  vhigh  vhigh     2       4          med    med  unacc\n",
              "14  vhigh  vhigh     2       4          med   high  unacc\n",
              "15  vhigh  vhigh     2       4          big    low  unacc\n",
              "16  vhigh  vhigh     2       4          big    med  unacc\n",
              "17  vhigh  vhigh     2       4          big   high  unacc\n",
              "18  vhigh  vhigh     2    more        small    low  unacc\n",
              "19  vhigh  vhigh     2    more        small    med  unacc\n",
              "20  vhigh  vhigh     2    more        small   high  unacc\n",
              "21  vhigh  vhigh     2    more          med    low  unacc\n",
              "22  vhigh  vhigh     2    more          med    med  unacc\n",
              "23  vhigh  vhigh     2    more          med   high  unacc\n",
              "24  vhigh  vhigh     2    more          big    low  unacc"
            ]
          },
          "metadata": {
            "tags": []
          },
          "execution_count": 19
        }
      ]
    },
    {
      "cell_type": "code",
      "metadata": {
        "id": "s3CE_llvgwkK",
        "colab": {
          "base_uri": "https://localhost:8080/",
          "height": 375
        },
        "outputId": "dd524cd4-db5e-4aa4-c537-afcda9695d0d"
      },
      "source": [
        "plot_size = plt.rcParams[\"figure.figsize\"]\n",
        "plot_size [0] = 8\n",
        "plot_size [1] = 6\n",
        "plt.rcParams[\"figure.figsize\"] = plot_size\n",
        "\n",
        "\n",
        "cars.output.value_counts().plot(kind='pie', autopct='%0.05f%%', colors=['lightblue', 'lightgreen', 'orange', 'pink'], explode=(0.05, 0.05, 0.05,0.05))"
      ],
      "execution_count": null,
      "outputs": [
        {
          "output_type": "execute_result",
          "data": {
            "text/plain": [
              "<matplotlib.axes._subplots.AxesSubplot at 0x7fd91dc731d0>"
            ]
          },
          "metadata": {
            "tags": []
          },
          "execution_count": 20
        },
        {
          "output_type": "display_data",
          "data": {
            "image/png": "[encoded data removed]",
            "text/plain": [
              "<Figure size 576x432 with 1 Axes>"
            ]
          },
          "metadata": {
            "tags": []
          }
        }
      ]
    },
    {
      "cell_type": "markdown",
      "metadata": {
        "id": "VV7Nwt3pg126"
      },
      "source": [
        "All the columns in our dataset are categorical. Deep learning is based on statistical algorithms and statistical algorithms work with numbers. Therefore, we need to convert the categorical information into numeric columns. There are various approaches to do that but one of the most common approach is one-hot encoding."
      ]
    },
    {
      "cell_type": "code",
      "metadata": {
        "id": "ny_JaVacg4hO"
      },
      "source": [
        "price = pd.get_dummies(cars.price, prefix='price')\n",
        "maint = pd.get_dummies(cars.maint, prefix='maint')\n",
        "\n",
        "doors = pd.get_dummies(cars.doors, prefix='doors')\n",
        "persons = pd.get_dummies(cars.persons, prefix='persons')\n",
        "\n",
        "lug_capacity = pd.get_dummies(cars.lug_capacity, prefix='lug_capacity')\n",
        "safety = pd.get_dummies(cars.safety, prefix='safety')\n",
        "\n",
        "labels = pd.get_dummies(cars.output, prefix='condition')"
      ],
      "execution_count": null,
      "outputs": []
    },
    {
      "cell_type": "code",
      "metadata": {
        "id": "MZXhw1Z0g9gF",
        "colab": {
          "base_uri": "https://localhost:8080/",
          "height": 202
        },
        "outputId": "35d5d314-2921-4dd0-af22-2d85e68ade0c"
      },
      "source": [
        "X = pd.concat([price, maint, doors, persons, lug_capacity, safety] , axis=1)\n",
        "\n",
        "labels.tail()"
      ],
      "execution_count": null,
      "outputs": [
        {
          "output_type": "execute_result",
          "data": {
            "text/html": [
              "<div>\n",
              "<style scoped>\n",
              "    .dataframe tbody tr th:only-of-type {\n",
              "        vertical-align: middle;\n",
              "    }\n",
              "\n",
              "    .dataframe tbody tr th {\n",
              "        vertical-align: top;\n",
              "    }\n",
              "\n",
              "    .dataframe thead th {\n",
              "        text-align: right;\n",
              "    }\n",
              "</style>\n",
              "<table border=\"1\" class=\"dataframe\">\n",
              "  <thead>\n",
              "    <tr style=\"text-align: right;\">\n",
              "      <th></th>\n",
              "      <th>condition_acc</th>\n",
              "      <th>condition_good</th>\n",
              "      <th>condition_unacc</th>\n",
              "      <th>condition_vgood</th>\n",
              "    </tr>\n",
              "  </thead>\n",
              "  <tbody>\n",
              "    <tr>\n",
              "      <th>1723</th>\n",
              "      <td>0</td>\n",
              "      <td>1</td>\n",
              "      <td>0</td>\n",
              "      <td>0</td>\n",
              "    </tr>\n",
              "    <tr>\n",
              "      <th>1724</th>\n",
              "      <td>0</td>\n",
              "      <td>0</td>\n",
              "      <td>0</td>\n",
              "      <td>1</td>\n",
              "    </tr>\n",
              "    <tr>\n",
              "      <th>1725</th>\n",
              "      <td>0</td>\n",
              "      <td>0</td>\n",
              "      <td>1</td>\n",
              "      <td>0</td>\n",
              "    </tr>\n",
              "    <tr>\n",
              "      <th>1726</th>\n",
              "      <td>0</td>\n",
              "      <td>1</td>\n",
              "      <td>0</td>\n",
              "      <td>0</td>\n",
              "    </tr>\n",
              "    <tr>\n",
              "      <th>1727</th>\n",
              "      <td>0</td>\n",
              "      <td>0</td>\n",
              "      <td>0</td>\n",
              "      <td>1</td>\n",
              "    </tr>\n",
              "  </tbody>\n",
              "</table>\n",
              "</div>"
            ],
            "text/plain": [
              "      condition_acc  condition_good  condition_unacc  condition_vgood\n",
              "1723              0               1                0                0\n",
              "1724              0               0                0                1\n",
              "1725              0               0                1                0\n",
              "1726              0               1                0                0\n",
              "1727              0               0                0                1"
            ]
          },
          "metadata": {
            "tags": []
          },
          "execution_count": 23
        }
      ]
    },
    {
      "cell_type": "code",
      "metadata": {
        "id": "tjzv0cLNg_5w"
      },
      "source": [
        "y = labels.values\n",
        "\n",
        "X_train, X_test, y_train, y_test = train_test_split(X, y, test_size=0.20, random_state=42)"
      ],
      "execution_count": null,
      "outputs": []
    },
    {
      "cell_type": "code",
      "metadata": {
        "id": "JP8MuryghFRo"
      },
      "source": [
        "input_layer = Input(shape=(X.shape[1],))\n",
        "dense_layer_1 = Dense(15, activation='tanh')(input_layer)\n",
        "dense_layer_2 = Dense(10, activation='relu')(dense_layer_1)\n",
        "output = Dense(y.shape[1], activation='softmax')(dense_layer_2)\n",
        "\n",
        "model = Model(inputs=input_layer, outputs=output)\n",
        "model.compile(loss='categorical_crossentropy', optimizer='adam', metrics=['acc'])"
      ],
      "execution_count": null,
      "outputs": []
    },
    {
      "cell_type": "code",
      "metadata": {
        "id": "-IUNHZkShIcD",
        "colab": {
          "base_uri": "https://localhost:8080/",
          "height": 312
        },
        "outputId": "29544932-77e1-47bc-cdd7-d60429fff3ce"
      },
      "source": [
        "print(model.summary())"
      ],
      "execution_count": null,
      "outputs": [
        {
          "output_type": "stream",
          "text": [
            "Model: \"model_3\"\n",
            "_________________________________________________________________\n",
            "Layer (type)                 Output Shape              Param #   \n",
            "=================================================================\n",
            "input_4 (InputLayer)         [(None, 21)]              0         \n",
            "_________________________________________________________________\n",
            "dense_17 (Dense)             (None, 15)                330       \n",
            "_________________________________________________________________\n",
            "dense_18 (Dense)             (None, 10)                160       \n",
            "_________________________________________________________________\n",
            "dense_19 (Dense)             (None, 4)                 44        \n",
            "=================================================================\n",
            "Total params: 534\n",
            "Trainable params: 534\n",
            "Non-trainable params: 0\n",
            "_________________________________________________________________\n",
            "None\n"
          ],
          "name": "stdout"
        }
      ]
    },
    {
      "cell_type": "code",
      "metadata": {
        "id": "IMfndajLhO_-",
        "colab": {
          "base_uri": "https://localhost:8080/",
          "height": 1000
        },
        "outputId": "3ad57aea-7856-4605-ebb9-f78b820fc013"
      },
      "source": [
        "history = model.fit(X_train, y_train, batch_size=32, epochs=50, verbose=1, validation_split=0.2)"
      ],
      "execution_count": null,
      "outputs": [
        {
          "output_type": "stream",
          "text": [
            "Epoch 1/50\n",
            "35/35 [==============================] - 0s 3ms/step - loss: 0.0341 - acc: 0.9946 - val_loss: 0.0918 - val_acc: 0.9603\n",
            "Epoch 2/50\n",
            "35/35 [==============================] - 0s 4ms/step - loss: 0.0336 - acc: 0.9946 - val_loss: 0.0966 - val_acc: 0.9531\n",
            "Epoch 3/50\n",
            "35/35 [==============================] - 0s 3ms/step - loss: 0.0322 - acc: 0.9946 - val_loss: 0.0903 - val_acc: 0.9603\n",
            "Epoch 4/50\n",
            "35/35 [==============================] - 0s 3ms/step - loss: 0.0315 - acc: 0.9946 - val_loss: 0.0875 - val_acc: 0.9603\n",
            "Epoch 5/50\n",
            "35/35 [==============================] - 0s 3ms/step - loss: 0.0302 - acc: 0.9955 - val_loss: 0.0905 - val_acc: 0.9567\n",
            "Epoch 6/50\n",
            "35/35 [==============================] - 0s 3ms/step - loss: 0.0294 - acc: 0.9946 - val_loss: 0.0916 - val_acc: 0.9567\n",
            "Epoch 7/50\n",
            "35/35 [==============================] - 0s 3ms/step - loss: 0.0294 - acc: 0.9955 - val_loss: 0.0866 - val_acc: 0.9603\n",
            "Epoch 8/50\n",
            "35/35 [==============================] - 0s 3ms/step - loss: 0.0284 - acc: 0.9955 - val_loss: 0.0870 - val_acc: 0.9603\n",
            "Epoch 9/50\n",
            "35/35 [==============================] - 0s 3ms/step - loss: 0.0275 - acc: 0.9973 - val_loss: 0.0854 - val_acc: 0.9603\n",
            "Epoch 10/50\n",
            "35/35 [==============================] - 0s 3ms/step - loss: 0.0275 - acc: 0.9946 - val_loss: 0.0860 - val_acc: 0.9567\n",
            "Epoch 11/50\n",
            "35/35 [==============================] - 0s 3ms/step - loss: 0.0273 - acc: 0.9955 - val_loss: 0.0879 - val_acc: 0.9567\n",
            "Epoch 12/50\n",
            "35/35 [==============================] - 0s 4ms/step - loss: 0.0263 - acc: 0.9973 - val_loss: 0.0926 - val_acc: 0.9495\n",
            "Epoch 13/50\n",
            "35/35 [==============================] - 0s 3ms/step - loss: 0.0254 - acc: 0.9973 - val_loss: 0.0872 - val_acc: 0.9531\n",
            "Epoch 14/50\n",
            "35/35 [==============================] - 0s 3ms/step - loss: 0.0244 - acc: 0.9973 - val_loss: 0.0858 - val_acc: 0.9567\n",
            "Epoch 15/50\n",
            "35/35 [==============================] - 0s 3ms/step - loss: 0.0240 - acc: 0.9982 - val_loss: 0.0824 - val_acc: 0.9603\n",
            "Epoch 16/50\n",
            "35/35 [==============================] - 0s 3ms/step - loss: 0.0234 - acc: 0.9982 - val_loss: 0.0868 - val_acc: 0.9531\n",
            "Epoch 17/50\n",
            "35/35 [==============================] - 0s 3ms/step - loss: 0.0232 - acc: 0.9982 - val_loss: 0.0812 - val_acc: 0.9603\n",
            "Epoch 18/50\n",
            "35/35 [==============================] - 0s 3ms/step - loss: 0.0228 - acc: 0.9991 - val_loss: 0.0904 - val_acc: 0.9495\n",
            "Epoch 19/50\n",
            "35/35 [==============================] - 0s 3ms/step - loss: 0.0223 - acc: 0.9973 - val_loss: 0.0803 - val_acc: 0.9603\n",
            "Epoch 20/50\n",
            "35/35 [==============================] - 0s 3ms/step - loss: 0.0216 - acc: 0.9982 - val_loss: 0.0829 - val_acc: 0.9531\n",
            "Epoch 21/50\n",
            "35/35 [==============================] - 0s 3ms/step - loss: 0.0211 - acc: 0.9973 - val_loss: 0.0807 - val_acc: 0.9567\n",
            "Epoch 22/50\n",
            "35/35 [==============================] - 0s 4ms/step - loss: 0.0209 - acc: 0.9991 - val_loss: 0.0821 - val_acc: 0.9603\n",
            "Epoch 23/50\n",
            "35/35 [==============================] - 0s 3ms/step - loss: 0.0194 - acc: 0.9982 - val_loss: 0.0817 - val_acc: 0.9603\n",
            "Epoch 24/50\n",
            "35/35 [==============================] - 0s 3ms/step - loss: 0.0191 - acc: 0.9991 - val_loss: 0.0850 - val_acc: 0.9531\n",
            "Epoch 25/50\n",
            "35/35 [==============================] - 0s 3ms/step - loss: 0.0189 - acc: 0.9982 - val_loss: 0.0823 - val_acc: 0.9603\n",
            "Epoch 26/50\n",
            "35/35 [==============================] - 0s 3ms/step - loss: 0.0185 - acc: 0.9982 - val_loss: 0.0842 - val_acc: 0.9531\n",
            "Epoch 27/50\n",
            "35/35 [==============================] - 0s 3ms/step - loss: 0.0184 - acc: 0.9991 - val_loss: 0.0774 - val_acc: 0.9675\n",
            "Epoch 28/50\n",
            "35/35 [==============================] - 0s 3ms/step - loss: 0.0175 - acc: 0.9982 - val_loss: 0.0851 - val_acc: 0.9531\n",
            "Epoch 29/50\n",
            "35/35 [==============================] - 0s 3ms/step - loss: 0.0169 - acc: 0.9991 - val_loss: 0.0805 - val_acc: 0.9531\n",
            "Epoch 30/50\n",
            "35/35 [==============================] - 0s 4ms/step - loss: 0.0166 - acc: 0.9991 - val_loss: 0.0826 - val_acc: 0.9531\n",
            "Epoch 31/50\n",
            "35/35 [==============================] - 0s 3ms/step - loss: 0.0163 - acc: 0.9991 - val_loss: 0.0807 - val_acc: 0.9603\n",
            "Epoch 32/50\n",
            "35/35 [==============================] - 0s 3ms/step - loss: 0.0159 - acc: 0.9991 - val_loss: 0.0796 - val_acc: 0.9603\n",
            "Epoch 33/50\n",
            "35/35 [==============================] - 0s 3ms/step - loss: 0.0152 - acc: 0.9991 - val_loss: 0.0892 - val_acc: 0.9495\n",
            "Epoch 34/50\n",
            "35/35 [==============================] - 0s 3ms/step - loss: 0.0150 - acc: 0.9991 - val_loss: 0.0794 - val_acc: 0.9603\n",
            "Epoch 35/50\n",
            "35/35 [==============================] - 0s 3ms/step - loss: 0.0145 - acc: 0.9991 - val_loss: 0.0803 - val_acc: 0.9567\n",
            "Epoch 36/50\n",
            "35/35 [==============================] - 0s 3ms/step - loss: 0.0144 - acc: 0.9991 - val_loss: 0.0881 - val_acc: 0.9531\n",
            "Epoch 37/50\n",
            "35/35 [==============================] - 0s 3ms/step - loss: 0.0138 - acc: 0.9991 - val_loss: 0.0812 - val_acc: 0.9531\n",
            "Epoch 38/50\n",
            "35/35 [==============================] - 0s 3ms/step - loss: 0.0134 - acc: 0.9991 - val_loss: 0.0838 - val_acc: 0.9531\n",
            "Epoch 39/50\n",
            "35/35 [==============================] - 0s 3ms/step - loss: 0.0131 - acc: 1.0000 - val_loss: 0.0804 - val_acc: 0.9567\n",
            "Epoch 40/50\n",
            "35/35 [==============================] - 0s 3ms/step - loss: 0.0136 - acc: 0.9991 - val_loss: 0.0839 - val_acc: 0.9567\n",
            "Epoch 41/50\n",
            "35/35 [==============================] - 0s 3ms/step - loss: 0.0124 - acc: 1.0000 - val_loss: 0.0820 - val_acc: 0.9531\n",
            "Epoch 42/50\n",
            "35/35 [==============================] - 0s 3ms/step - loss: 0.0123 - acc: 0.9991 - val_loss: 0.0794 - val_acc: 0.9567\n",
            "Epoch 43/50\n",
            "35/35 [==============================] - 0s 3ms/step - loss: 0.0116 - acc: 1.0000 - val_loss: 0.0846 - val_acc: 0.9531\n",
            "Epoch 44/50\n",
            "35/35 [==============================] - 0s 3ms/step - loss: 0.0115 - acc: 0.9991 - val_loss: 0.0833 - val_acc: 0.9531\n",
            "Epoch 45/50\n",
            "35/35 [==============================] - 0s 3ms/step - loss: 0.0114 - acc: 1.0000 - val_loss: 0.0829 - val_acc: 0.9603\n",
            "Epoch 46/50\n",
            "35/35 [==============================] - 0s 3ms/step - loss: 0.0110 - acc: 0.9991 - val_loss: 0.0822 - val_acc: 0.9567\n",
            "Epoch 47/50\n",
            "35/35 [==============================] - 0s 3ms/step - loss: 0.0107 - acc: 1.0000 - val_loss: 0.0829 - val_acc: 0.9531\n",
            "Epoch 48/50\n",
            "35/35 [==============================] - 0s 3ms/step - loss: 0.0105 - acc: 1.0000 - val_loss: 0.0767 - val_acc: 0.9603\n",
            "Epoch 49/50\n",
            "35/35 [==============================] - 0s 3ms/step - loss: 0.0100 - acc: 1.0000 - val_loss: 0.0810 - val_acc: 0.9567\n",
            "Epoch 50/50\n",
            "35/35 [==============================] - 0s 3ms/step - loss: 0.0100 - acc: 1.0000 - val_loss: 0.0812 - val_acc: 0.9567\n"
          ],
          "name": "stdout"
        }
      ]
    },
    {
      "cell_type": "code",
      "metadata": {
        "id": "nbQsm7CLhSF1",
        "colab": {
          "base_uri": "https://localhost:8080/",
          "height": 52
        },
        "outputId": "29932e92-60fc-40df-dd43-2503f5157f4e"
      },
      "source": [
        "score = model.evaluate(X_test, y_test, verbose=1)\n",
        "\n",
        "print(\"Test Accuracy:\", score[1])"
      ],
      "execution_count": null,
      "outputs": [
        {
          "output_type": "stream",
          "text": [
            "11/11 [==============================] - 0s 2ms/step - loss: 0.0579 - acc: 0.9769\n",
            "Test Accuracy: 0.9768785834312439\n"
          ],
          "name": "stdout"
        }
      ]
    },
    {
      "cell_type": "code",
      "metadata": {
        "id": "3Mrx0sguyASu",
        "colab": {
          "base_uri": "https://localhost:8080/",
          "height": 107
        },
        "outputId": "33597650-0016-45b6-f813-3330b378ad65"
      },
      "source": [
        "model.save('classification_model')"
      ],
      "execution_count": null,
      "outputs": [
        {
          "output_type": "stream",
          "text": [
            "WARNING:tensorflow:From /usr/local/lib/python3.6/dist-packages/tensorflow/python/ops/resource_variable_ops.py:1817: calling BaseResourceVariable.__init__ (from tensorflow.python.ops.resource_variable_ops) with constraint is deprecated and will be removed in a future version.\n",
            "Instructions for updating:\n",
            "If using Keras pass *_constraint arguments to layers.\n",
            "INFO:tensorflow:Assets written to: classification_model/assets\n"
          ],
          "name": "stdout"
        }
      ]
    },
    {
      "cell_type": "code",
      "metadata": {
        "id": "gXAKwqThyKpm",
        "colab": {
          "base_uri": "https://localhost:8080/",
          "height": 35
        },
        "outputId": "4c8d693a-2f23-40c4-ea7d-d405ed439382"
      },
      "source": [
        "! ls"
      ],
      "execution_count": null,
      "outputs": [
        {
          "output_type": "stream",
          "text": [
            "car_evaluation.csv  classification_model  petrol_consumption.csv  sample_data\n"
          ],
          "name": "stdout"
        }
      ]
    },
    {
      "cell_type": "code",
      "metadata": {
        "id": "kptVvFQNyQqX"
      },
      "source": [
        "reloaded_model = tf.keras.models.load_model('classification_model')"
      ],
      "execution_count": null,
      "outputs": []
    },
    {
      "cell_type": "code",
      "metadata": {
        "id": "lczh2RO7yZDO",
        "colab": {
          "base_uri": "https://localhost:8080/",
          "height": 52
        },
        "outputId": "0a2d71d4-ba0a-4186-b6e8-2778ff3be156"
      },
      "source": [
        "score = reloaded_model.evaluate(X_test, y_test, verbose=1)\n",
        "\n",
        "print(\"Test Accuracy:\", score[1])"
      ],
      "execution_count": null,
      "outputs": [
        {
          "output_type": "stream",
          "text": [
            "11/11 [==============================] - 0s 2ms/step - loss: 0.0579 - acc: 0.9769\n",
            "Test Accuracy: 0.9768785834312439\n"
          ],
          "name": "stdout"
        }
      ]
    },
    {
      "cell_type": "markdown",
      "metadata": {
        "id": "o5DmvfhuhaVJ"
      },
      "source": [
        "## Saving the Model"
      ]
    },
    {
      "cell_type": "code",
      "metadata": {
        "id": "qknWkadKhc_y",
        "colab": {
          "base_uri": "https://localhost:8080/",
          "height": 235
        },
        "outputId": "37208c70-c903-4430-ead0-a91d8a1cc7d5"
      },
      "source": [
        "# Create a simple model\n",
        "model = tf.keras.Sequential([\n",
        "  layers.Dense(10, activation='relu', input_shape=(32,)),\n",
        "  layers.Dense(10)\n",
        "])\n",
        "model.compile(optimizer='rmsprop',\n",
        "              loss=tf.keras.losses.CategoricalCrossentropy(from_logits=True),\n",
        "              metrics=['accuracy'])\n",
        "model.fit(data, labels, batch_size=32, epochs=5)\n",
        "\n",
        "\n",
        "# Save entire model to a HDF5 file\n",
        "model.save('my_model')\n",
        "\n",
        "# Recreate the exact same model, including weights and optimizer.\n",
        "model = tf.keras.models.load_model('my_model')"
      ],
      "execution_count": null,
      "outputs": [
        {
          "output_type": "error",
          "ename": "NameError",
          "evalue": "ignored",
          "traceback": [
            "\u001b[0;31m---------------------------------------------------------------------------\u001b[0m",
            "\u001b[0;31mNameError\u001b[0m                                 Traceback (most recent call last)",
            "\u001b[0;32m<ipython-input-27-6ba891a5b8ee>\u001b[0m in \u001b[0;36m<module>\u001b[0;34m()\u001b[0m\n\u001b[1;32m      1\u001b[0m model = tf.keras.Sequential([\n\u001b[0;32m----> 2\u001b[0;31m   \u001b[0mlayers\u001b[0m\u001b[0;34m.\u001b[0m\u001b[0mDense\u001b[0m\u001b[0;34m(\u001b[0m\u001b[0;36m10\u001b[0m\u001b[0;34m,\u001b[0m \u001b[0mactivation\u001b[0m\u001b[0;34m=\u001b[0m\u001b[0;34m'relu'\u001b[0m\u001b[0;34m,\u001b[0m \u001b[0minput_shape\u001b[0m\u001b[0;34m=\u001b[0m\u001b[0;34m(\u001b[0m\u001b[0;36m32\u001b[0m\u001b[0;34m,\u001b[0m\u001b[0;34m)\u001b[0m\u001b[0;34m)\u001b[0m\u001b[0;34m,\u001b[0m\u001b[0;34m\u001b[0m\u001b[0;34m\u001b[0m\u001b[0m\n\u001b[0m\u001b[1;32m      3\u001b[0m   \u001b[0mlayers\u001b[0m\u001b[0;34m.\u001b[0m\u001b[0mDense\u001b[0m\u001b[0;34m(\u001b[0m\u001b[0;36m10\u001b[0m\u001b[0;34m)\u001b[0m\u001b[0;34m\u001b[0m\u001b[0;34m\u001b[0m\u001b[0m\n\u001b[1;32m      4\u001b[0m ])\n\u001b[1;32m      5\u001b[0m model.compile(optimizer='rmsprop',\n",
            "\u001b[0;31mNameError\u001b[0m: name 'layers' is not defined"
          ]
        }
      ]
    },
    {
      "cell_type": "markdown",
      "metadata": {
        "id": "_9JHSajkhkGy"
      },
      "source": [
        "Remember that TensorFlow and Keras don't represent a single workflow. It's a spectrum of workflows, each with its own trade-off between usability and flexibility. For instance, you've noticed that it's much easier to use fit than to write a custom training loop, but fit doesn't give you the same level of granular control for research use cases.\n",
        "\n",
        "So use the right tool for the job!\n",
        "\n",
        "A core principle of Keras is \"progressive disclosure of complexity\": it's easy to get started, and you can gradually dive into workflows where you write more and more logic from scratch, providing you with complete control.\n",
        "\n",
        "This applies to both model definition, and model training."
      ]
    }
  ]
}